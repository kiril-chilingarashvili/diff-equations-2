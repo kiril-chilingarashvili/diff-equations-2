{
 "cells": [
  {
   "cell_type": "markdown",
   "id": "5a6eeb21-07ef-4f0b-972f-b49c470735f1",
   "metadata": {},
   "source": [
    "# Unit 1: Introduction to 2x2 systems"
   ]
  },
  {
   "cell_type": "markdown",
   "id": "e44a88b5-be1e-41ac-a41c-05dee4e115bf",
   "metadata": {},
   "source": [
    "## Real life examples for homogenous linear systems of ODEs:\n",
    "\n",
    "### - ***Physics***: To send the Juno spacecraft to Jupiter, NASA scientists needed to understand the full system of gravitational attraction among the planets, and its effect on the velocity and acceleration of Juno. This gives rise to a system of differential equations.\n",
    "\n",
    "### - ***Electrical systems***: We have seen that an RLC circuit can be described by a single second order ODE. More complex circuits present in all electrical devices, such as computers and cell phones, are described by systems of differential equations.\n",
    "\n",
    "### - ***Chemical reactions***: The time derivative of the concentration of a chemical species is a function of the reaction rates and concentrations of other species. These relations give systems of DEs.\n",
    "\n",
    "### - ***Engineering***: Controlling robots, airplanes, and cars all require systems of differential equations.\n",
    "\n",
    "### - ***Computer graphics***: Life-like animations of fire, smoke, water, snow, and moving cloth in movies all require simulating systems of DEs.\n",
    "\n",
    "### - ***Gene expression network***: The time derivatives of mRNA and protein concentrations are functions of their degradation rates and transcription factors of the proteins. These relations constitute systems of DEs.\n",
    "\n",
    "### - ***Network dynamics***: How a virus spreads in a population, the flow of traffic, and information flow in a social network can all be described by systems of DEs."
   ]
  },
  {
   "cell_type": "markdown",
   "id": "8f66148b-d411-4247-9bb7-1bb1b0adfbdf",
   "metadata": {},
   "source": [
    "## Vectors\n",
    "\n",
    "### The first step to solving a system of linear DEs is to rewrite it as a ***vector equation***. To do this, we will first review basic vector and matrix arithmetic.\n",
    "\n",
    "### A vector represented as a column is called a ***column vector***. Example:\n",
    "## $$ \\begin{pmatrix} -2 \\\\ 1 \\end{pmatrix} $$\n",
    "\n",
    "### The set of all scalar multiples of a single vector form the line through origin that the vector lies on; the set of all positive scalar multiples of a single vector form a ***ray*** starting at the origin through the vector.\n",
    "![Ray](img/ray.png)"
   ]
  },
  {
   "cell_type": "markdown",
   "id": "c54b4441-fe9a-4b95-b00e-1cbc30a6f990",
   "metadata": {},
   "source": [
    "## Linear independence and basis in the plane\n",
    "\n",
    "### Two vectors are ***linearly dependent*** if they lie on the same line. Algebraically, one vector is a multiple of the other vector.\n",
    "### In $\\mathbb{R}^2$, two nonzero vectors are ***linearly independent*** if they do not lie on the same line through the origin.\n",
    "### A set of $n$ vectors being linearly independent means that there is no $(n-1)$-dimensional plane through the origin on which they all lie. \n",
    "\n",
    "### Examples:\n",
    "### $\\begin{pmatrix} -3 \\\\ -6 \\end{pmatrix}$ and $\\begin{pmatrix} 1 \\\\ 2 \\end{pmatrix}$ are linearly dependent since $\\begin{pmatrix} -3 \\\\ -6 \\end{pmatrix} = -3 \\begin{pmatrix} 1 \\\\ 2 \\end{pmatrix}$\n",
    "### $\\begin{pmatrix} 0 \\\\ 0 \\end{pmatrix}$ is dependent on all vectors since $\\begin{pmatrix} 0 \\\\ 0 \\end{pmatrix} = 0 \\begin{pmatrix} a \\\\ b \\end{pmatrix}$"
   ]
  },
  {
   "cell_type": "markdown",
   "id": "d97b7bb2-37b2-42ca-8af2-75a21bfd0645",
   "metadata": {},
   "source": [
    "## Definition 3.3\n",
    "### A ***linear combination*** of vectors $v_1$ and $v_2$ is a sum\n",
    "## $$ c_1 v_1 + c_2 v_2 $$\n",
    "### where $c_1$ and $c_2$ are scalars.\n",
    "\n"
   ]
  },
  {
   "cell_type": "markdown",
   "id": "0941ab46-e3bc-42c3-b101-4a192e36de3f",
   "metadata": {},
   "source": [
    "## Example 3.4\n",
    "\n",
    "### The standard basis of $\\mathbb{R}^2$ is the pair of vectors\n",
    "## $$ \\begin{pmatrix} 1 \\\\ 0 \\end{pmatrix}, \\begin{pmatrix} 0 \\\\ 1 \\end{pmatrix} $$\n",
    "\n",
    "### Every vector in $\\mathbb{R}^2$ can be expressed as a linear combination of these vectors:\n",
    "## $$ \\begin{pmatrix} a \\\\ b \\end{pmatrix} = a \\begin{pmatrix} 1 \\\\ 0 \\end{pmatrix} + b \\begin{pmatrix} 0 \\\\ 1 \\end{pmatrix} $$\n",
    "\n",
    "### Every pair of linearly independent vectors in $\\mathbb{R}^2$ is a basis of $\\mathbb{R}^2$.\n"
   ]
  },
  {
   "cell_type": "markdown",
   "id": "a9b8e035-32e9-4e66-aef1-794c0010e8b2",
   "metadata": {},
   "source": [
    "## Vector valued functions\n",
    "\n",
    "### The trajectory of a point in $\\mathbb{R}^2$\n",
    "![The trajectory of a point](img/trajectory.png)\n",
    "\n",
    "### The trajectory of a point in $\\mathbb{R}^2$ can be represented by the vector function\n",
    "## $$ \\begin{pmatrix} x(t) \\\\ y(t) \\end{pmatrix} $$\n",
    "### where $x = x(t)$ and $y = y(t)$ are the changing $xy$-coordinates of the point at the time $t$. (You may have seen this called a ***parametric curve***.)\n",
    "### The entries of a vector may represent other quantities. (For example levels of fluid in two connected tanks)\n",
    "\n",
    "\n"
   ]
  },
  {
   "cell_type": "markdown",
   "id": "063aa8a7-4c58-4937-8a43-f6cc8b432d0e",
   "metadata": {},
   "source": [
    "## Derivatives of vector functions\n",
    "\n",
    "### To find the derivative of a vector, we differentiate each of its components. In particular, the derivative of a vector is another vector with the same number of components.\n",
    "\n",
    "### For example,\n",
    "## $$ \\frac{d}{dt}\\begin{pmatrix}h_1 \\\\ h_2 \\end{pmatrix} = \\begin{pmatrix} \\dot{h_1} \\\\ \\dot{h_2} \\end{pmatrix} $$\n",
    "### If\n",
    "## $$ \\begin{pmatrix} x \\\\ y \\end{pmatrix} = \\begin{pmatrix} x(t) \\\\ y(t) \\end{pmatrix} $$\n",
    "### is the trajectory of a curve, then\n",
    "## $$ \\begin{pmatrix} \\dot{x} \\\\ \\dot{y} \\end{pmatrix} $$\n",
    "### is the velocity vector.\n"
   ]
  },
  {
   "cell_type": "markdown",
   "id": "81b79406-e066-4203-b400-07cf02eda8a5",
   "metadata": {},
   "source": [
    "## Example of the ***first order system of ODEs***:\n",
    "\n",
    "## $$ \\frac{dh_1}{dt} = a(h_2-h_1) $$\n",
    "## $$ \\frac{dh_2}{dt} = a(h_1-h_2) $$\n",
    "### after rewriting by using shorter notation\n",
    "## $$ \\dot{h_1} = -a h_1 + a h_2 $$\n",
    "## $$ \\dot{h_2} = a h_1 - a h_2 $$\n",
    "### Matrix form of the system\n",
    "## $$ \\begin{pmatrix} \\dot{h_1} \\\\ \\dot{h_2} \\end{pmatrix} = \\begin{pmatrix} -a & a \\\\ a & -a \\end{pmatrix} \\begin{pmatrix} h_1 \\\\ h_2 \\end{pmatrix} $$\n",
    "\n",
    "### $\\begin{pmatrix} -a & a \\\\ a & -a \\end{pmatrix}$ is known as the ***coefficient matrix*** of the system. This matrix encodes all information of the system.\n"
   ]
  },
  {
   "cell_type": "markdown",
   "id": "12ba81bc-963d-46ce-aa3a-f44e36299d20",
   "metadata": {},
   "source": [
    "## Condensed vector and matrix notation\n",
    "\n",
    "### Example:\n",
    "## $$ \\frac{d}{dt} \\begin{pmatrix} T_1 \\\\ T_2 \\end{pmatrix} = \\begin{pmatrix} e & f \\\\ g & h \\end{pmatrix} \\begin{pmatrix} T_1 \\\\ T_2 \\end{pmatrix} + \\begin{pmatrix} 0 \\\\ b T_e \\end{pmatrix} $$\n",
    "### Let \n",
    "## $$ \\bf{x} = \\begin{pmatrix} T_1 \\\\ T_2 \\end{pmatrix} $$\n",
    "## $$ \\bf{A} = \\begin{pmatrix} e & f \\\\ g & h \\end{pmatrix} $$\n",
    "## $$ \\bf{b} = \\begin{pmatrix} 0 \\\\ b T_e \\end{pmatrix} $$\n",
    "### Then:\n",
    "## $$ \\frac{d}{dt} \\begin{pmatrix} T_1 \\\\ T_2 \\end{pmatrix} = \\begin{pmatrix} e & f \\\\ g & h \\end{pmatrix} \\begin{pmatrix} T_1 \\\\ T_2 \\end{pmatrix} + \\begin{pmatrix} 0 \\\\ b T_e \\end{pmatrix} \\iff \\frac{d}{dt} \\bf{x} = \\bf{A} \\bf{x} + \\bf{b} $$\n",
    "### With dot notation\n",
    "## $$ \\bf{\\dot{x}} = \\bf{A} \\bf{x} + \\bf{b} $$"
   ]
  },
  {
   "cell_type": "markdown",
   "id": "ea1e4a9e-89fb-4f5a-8fa9-ad211aeb8bf2",
   "metadata": {},
   "source": [
    "## Definition 9.1\n",
    "\n",
    "### A 2X2 ***first order linear*** system of ODEs is one that can be written in the form\n",
    "## $$ \\begin{pmatrix} \\dot{x} \\\\ \\dot{y} \\end{pmatrix} = \\begin{pmatrix} a & b \\\\ c & d \\end{pmatrix} \\begin{pmatrix} x \\\\ y \\end{pmatrix} + \\begin{pmatrix} r_1 \\\\ r_2\\end{pmatrix} $$\n",
    "### or more compactly\n",
    "## $$ \\dot{\\bf{x}} = \\bf{A} \\bf{x} + \\bf{r}$$\n",
    "### Here\n",
    "### - $t$ - is independent variable\n",
    "### - $\\bf{x}$ - is the vector of the dependent variables $\\bf{x} = \\bf{x}(t) = \\begin{pmatrix} x(t) \\\\ y(t) \\end{pmatrix}$.\n",
    "### - $\\bf{A} = \\bf{A}(t)$ - may depend on $t$ but not on any dependent variables. For example it can be $\\bf{A} = \\begin{pmatrix} \\cos(t) & \\sin(t) \\\\ -\\sin(t) & \\cos(t) \\end{pmatrix}$\n",
    "### - $\\bf{r} = \\bf{r}(t)$ - may depend on $t$ but not on any dependent variables. For example it can be $\\bf{r} = \\begin{pmatrix} e^t \\\\ t \\end{pmatrix}$\n",
    "### The system is called ***first order*** because highest derivatives invoolved are first derivatives\n",
    "### The system is called ***homogeneous*** if $\\bf{r}(t)$ equals the zero vector, and ***inhomogeneous*** if $\\bf{r}(t)$ is nonzero.\n"
   ]
  },
  {
   "cell_type": "markdown",
   "id": "3289733b-9fb6-4211-b8c6-af1d33fa9665",
   "metadata": {},
   "source": [
    "## ***Companion System***\n",
    "\n",
    "### We can make companion systems for higher order linear differential equations by introducing new function variables for the derivatives.\n",
    "\n",
    "### > ***Third order systems***\n",
    "### Given a third order linear ODE\n",
    "## $$ D^3 x + a_2 D^2 x + a_1 D x + a_0 x = 0, \\left(D = \\frac{d}{dt} \\right) $$\n",
    "#### define\n",
    "## $$ y = D x $$\n",
    "## $$ z = Dy = D^2 x $$\n",
    "### Then the DE can be written as\n",
    "## $$ D z = -a_2 z - a_1 y - a_0 x $$\n",
    "### Therefore, we have a system of three equations, which in vector notation is\n",
    "## $$ \\frac{d}{dt} \\begin{pmatrix}x \\\\ y \\\\ z \\end{pmatrix} = \\begin{pmatrix} 0 & 1 & 0 \\\\ 0 & 0 & 1 \\\\ -a_0 & -a_1 & -a_2 \\end{pmatrix} \\begin{pmatrix} x \\\\ y \\\\z \\end{pmatrix} $$\n",
    "\n",
    "### > ***n<sup>th</sup> order systems***\n",
    "\n",
    "### We can do the same thing generally. Given an n<sup>th</sup> order ODE\n",
    "## $$ D^n + a_{n-1} D^{n-1} x + a_{n - 2} d^{n - 2} x + \\ldots + a_1 D x + a_0 x = 0$$\n",
    "### define\n",
    "## $$ x_0 = x $$\n",
    "## $$ x_k = D x_{k - 1}, \\, \\text{ for } \\, 0 < k \\leq n - 1 $$\n",
    "### Then the DE can be written as\n",
    "## $$ D x_{n - 1} = -a_{n - 1} x_{n - 1} - a_{n - 2} x_{n - 2} - \\ldots - a_1 x_1 - a_0 x_0 $$\n",
    "### Therefore, we have a system of  equations, which in vector notation becomes\n",
    "## $$ \\frac{d}{dt} \\begin{pmatrix} x_0 \\\\ x_1 \\\\ \\vdots \\\\ x_{n - 2} \\\\ x_{n - 1} \\end{pmatrix} = \\begin{pmatrix} 0 & 1 & 0 & \\cdots & 0 \\\\ 0 & 0 & 1 & \\cdots & 0 \\\\ \\vdots & \\vdots & \\vdots & \\ddots & \\vdots \\\\ 0 & 0 & 0 & \\cdots & 1 \\\\ -a_0 & -a_1 & -a_2 & \\cdots & -a_{n - 1} \\end{pmatrix} \\begin{pmatrix} x_0 \\\\ x_1 \\\\ \\vdots \\\\ x_{n - 2} \\\\ x_{n - 1} \\end{pmatrix} $$\n",
    "\n",
    "### Remark: The dimension of the companion system corresponds to the order of the single ODE we started with."
   ]
  },
  {
   "cell_type": "markdown",
   "id": "1cced09a-89ca-4358-bc1a-251717c7066d",
   "metadata": {},
   "source": [
    "### From now on, when we refer to a system, we mean a first order homogeneous 2×2 system with constant coefficients.\n",
    "\n"
   ]
  },
  {
   "cell_type": "markdown",
   "id": "3710d1b2-c489-49ec-924f-117da9e93a99",
   "metadata": {},
   "source": [
    "## Trial solution for 2 by 2 systems\n",
    "\n",
    "### For a coupled homogenous 2×2 system, each equation depends on both variables, so the solution is not of the form $x=C_1 e^{\\lambda_1 t}; y = C_2 e^{\\lambda_2 t}$. Rather, we will seek solutions of the form\n",
    "## $$ \\begin{pmatrix} a_1 \\\\ a_2 \\end{pmatrix} e^{\\lambda t} $$\n"
   ]
  },
  {
   "cell_type": "markdown",
   "id": "72908988-2690-487d-a578-a57c7a665ef9",
   "metadata": {},
   "source": [
    "## Solving 2 by 2 homogeneous linear systems of ODEs\n",
    "\n",
    "### We are looking for basic solutions of the form\n",
    "## $$ \\bf{v} e^{\\lambda t}$$\n",
    "### where\n",
    "## $$ \\bf{v} = \\begin{pmatrix} a_1 \\\\ a_2 \\end{pmatrix} $$\n",
    "\n",
    "### Question 4.1\n",
    "### For which pairs $(\\lambda, v)$, consisting of a scalar and a nonzero vector, is the vector-valued function $\\bf{x} = \\bf{v} e^{\\lambda t}$ a solution to the system $\\dot{\\bf{x}} = \\bf{A} \\bf{x}$?\n",
    "### Solution:\n",
    "###  Plug $\\bf{x} = \\bf{v} e^{\\lambda t}$ into the system:\n",
    "## $$ \\dot{\\bf{x}} = \\bf{A} \\bf{x} $$\n",
    "## $$ \\implies \\lambda \\bf{v} e^{\\lambda t} = \\bf{A} \\bf{v} e^{\\lambda t} $$\n",
    "### Cancelling $e^{\\lambda t}$ on the two sides, we get\n",
    "## $$ \\lambda \\bf{v} = \\bf{A} \\bf{v} $$\n",
    "### Conclusion: \n",
    "### $\\bf{v} e^{\\lambda t}$ is a solution to the system of differential equations if and only if the system of algebraic equations $\\lambda \\bf{v} = \\bf{A} \\bf{v}$ is satisfied."
   ]
  },
  {
   "cell_type": "markdown",
   "id": "479b563d-b552-442b-8cc4-15481346e8fc",
   "metadata": {},
   "source": [
    "### Example:\n",
    "## $$ \\bf{A} = \\begin{pmatrix} -1 & 3 \\\\ 2 & 1 \\end{pmatrix} $$\n",
    "## $$ \\dot{\\bf{x}} = \\bf{A} \\bf{v} $$\n",
    "### The vector function $\\bf{x} = \\bf{v} e^{\\lambda t}$ is a solution if and only if the following algebraic system is satisfied:\n",
    "## $$ \\lambda \\bf{v} = \\bf{A} \\bf{v} $$\n",
    "## $$ \\iff \\lambda \\begin{pmatrix} a_1 \\\\ a_2 \\end{pmatrix} = \\begin{pmatrix} -1 & 3 \\\\ 2 & 1 \\end{pmatrix} \\begin{pmatrix} a_1 \\\\ a_2 \\end{pmatrix} $$\n",
    "## $$ \\iff \\begin{array} \\lambda a_1 & = & -1 a_1 & + 3 a_2 \\\\ \\lambda a_2 & = & 2 a_1 & + a_2 \\end{array} $$\n",
    "\n",
    "### This is a system of 2 algebraic equations with 3 unknowns, $\\lambda$ $a_1$ and $a_2$. Moreover, the equations are not linear because of the products $\\lambda a_1$ and $\\lambda a_2$. In many situations, 2 nonlinear algebraic equations in 3 unknowns cannot be solved.\n",
    "\n",
    "### But here, we can make progress by splitting the problem into two parts. First, we view $\\lambda$ not as an unknown but as a parameter. If $\\lambda$ is fixed, then we obtain a linear homogeneous 2×2 system of algebraic equations for the unknowns $a_1$ and $a_2$, which we can write in the form\n",
    "## $$ (-1 - \\lambda) a_1 + 3 a_2 = 0 $$\n",
    "## $$ 2 a_1 + (1 = \\lambda) a_2 = 0 $$\n",
    "### or on matrix form\n",
    "## $$ \\begin{pmatrix} -1 - \\lambda & 3 \\\\ 2 & 1 - \\lambda \\end{pmatrix} \\begin{pmatrix} a_1 \\\\ a_2 \\end{pmatrix} = \\begin{pmatrix} 0 \\\\ 0 \\end{pmatrix} $$\n",
    "\n",
    "### Vector and matrix notation\n",
    "### Let\n",
    "## $$ \\bf{A} = \\begin{pmatrix} -1 & 3 \\\\ 2 & 1 \\end{pmatrix}\\,\\,\\,\\bf{v} = \\begin{pmatrix} a_1 \\\\ a_2 \\end{pmatrix}\\,\\,\\, \\bf{0} = \\begin{pmatrix} 0 \\\\ 0 \\end{pmatrix} $$\n",
    "### then $\\bf{v} e^{\\lambda t}$ is a solution to the system of DEs $\\dot{\\bf{x}} = \\bf{A} \\bf{x}$ if and only if the following homogeneous linear algebraic system is satisfied:\n",
    "## $$ \\begin{pmatrix} -1 - \\lambda & 3 \\\\ 2 & 1 - \\lambda \\end{pmatrix} \\begin{pmatrix} a_1 \\\\ a_2 \\end{pmatrix} = \\begin{pmatrix} 0 \\\\ 0 \\end{pmatrix} $$\n",
    "### We write\n",
    "## $$ \\begin{pmatrix} -1 - \\lambda & 3 \\\\ 2 & 1 - \\lambda \\end{pmatrix} = \\begin{pmatrix} -1 & 3 \\\\ 2 & 1 \\end{pmatrix} -\\lambda \\begin{pmatrix} 1 & 0 \\\\ 0 & 1 \\end{pmatrix} $$\n",
    "### Therefore, a more compact way to write this is:\n",
    "## $$ (\\bf{A} - \\lambda \\bf{I}) \\bf{v} = 0 $$\n",
    "### where\n",
    "## $$ \\bf{I} = \\begin{pmatrix} 1 & 0 \\\\ 0 & 1 \\end{pmatrix} $$\n",
    "### The general case\n",
    "### In general, for constant matrix $\\bf{A}$, $\\bf{x} = \\bf{v} e^{\\lambda t}$ solves $\\dot{\\bf{x}} = \\bf{A} \\bf{x}$ if and only if $(\\bf{A} - \\lambda \\bf{I}) \\bf{v} = 0$"
   ]
  },
  {
   "cell_type": "markdown",
   "id": "4f3ca5f2-fdc1-4657-b38f-b1f3c64647a0",
   "metadata": {},
   "source": [
    "## Eigenvalues and eigenvectors\n",
    "### Finding all possible values of $\\lambda$ and, for each $\\lambda$, all vectors $\\bf{v}$ satisfying $(\\bf{A} - \\lambda \\bf{I}) \\bf{v} = 0$ is known as the ***eigenvalue-eigenvector problem***\n",
    "\n",
    "### Definition 5.1\n",
    "### Let $\\bf{A}$ be a 2×2 matrix.\n",
    "### - An eigenvalue $\\lambda$ of $\\bf{A}$ is a scalar such that $\\bf{A} \\bf{v} = \\lambda \\bf{v}$ for some nonzero vector $\\bf{v}$.\n",
    "### - An eigenvector $\\bf{v}$ of $\\bf{A}$ associated with an eigenvalue $\\lambda$ is a nonzero vector $\\bf{v}$ such that $\\bf{A} \\bf{v} = \\lambda \\bf{v}$.\n",
    "### We also say an eigenvector “corresponding to,\" or “belonging to\" an eigenvalue.\n",
    "### Warning: The zero vector $\\bf{v} = \\begin{pmatrix} 0 \\\\ 0 \\end{pmatrix}$ is never an eigenvector. However, $\\lambda = 0$ can be an eigenvalue."
   ]
  },
  {
   "cell_type": "markdown",
   "id": "95386c1d-408c-4e1c-a693-3cc26ee70b33",
   "metadata": {},
   "source": [
    "### Example: \n",
    "### Let \n",
    "## $$ \\bf{A} = \\begin{pmatrix} 1 & -2 \\\\ -1 & 0 \\end{pmatrix} $$\n",
    "### and let \n",
    "## $$ \\bf{v} = \\begin{pmatrix} 2 \\\\ -1 \\end{pmatrix} $$ \n",
    "### Is $\\bf{v}$ an eigenvector of $\\bf{A}$?\n",
    "### Solution:\n",
    "### The calculation \n",
    "## $$ \\bf{A} \\bf{v} = \\begin{pmatrix} 1 & -2 \\\\ -1 & 0 \\end{pmatrix} \\begin{pmatrix} 2 \\\\ -1 \\end{pmatrix} = \\begin{pmatrix} 4 \\\\ -2 \\end{pmatrix} = 2 \\bf{v} $$\n",
    "### shows that $\\bf{v}$ is an eigenvector, and that the associated eigenvalue is 2."
   ]
  },
  {
   "cell_type": "markdown",
   "id": "5adfb6ef-b8c1-4285-b114-69b38d1dfef0",
   "metadata": {},
   "source": [
    "## Characteristic polynomial of a matrix\n",
    "\n",
    "### Recall that $\\bf{x} = e^{\\lambda t}$ is a solution of the system of DE $\\dot{\\bf{x}} = \\bf{A} \\bf{x}$ if and only if $\\bf{A} \\bf{v} = \\lambda \\bf{v}$, which is equivalent to $(\\lambda \\bf{I} - \\bf{A}) \\bf{v} = 0$\n",
    "\n",
    "### Question 7.1   \n",
    "### For what values of the parameter $\\lambda$ does the linear algebra system $(\\lambda \\bf{I} - \\bf{A}) \\bf{v} = 0$ have a nonzero solution for vector $\\bf{v}$? In other words, what are the eigenvalues of $\\bf{A}$?\n",
    "\n",
    "### ***Answer***\n",
    "### The values of $\\lambda$ that solve the ***characteristic equation***\n",
    "## $$ \\det(\\lambda \\bf{I} - \\bf{A}) = 0 $$\n",
    "\n",
    "### This is a consequence of the following ***fundamental theorem in linear algebra***.\n",
    "\n",
    "### Theorem 7.2   \n",
    "### Let $\\bf{B}$ be a $n \\times n$ square matrix. \n",
    "### Then the equation \n",
    "## $$\\bf{B} \\bf{x} = 0$$ \n",
    "### has a nonzero solution if and only if  \n",
    "## $$ \\det\\bf{B} = 0 $$\n",
    "\n",
    "### For $\\bf{B} = \\lambda \\bf{I} - \\bf{A}$ this theorem can be restated as\n",
    "### Theorem 7.3   \n",
    "### Let $\\bf{A}$ be a $n \\times n$ matrix. \n",
    "### Then a scalar $\\lambda$ is an eigenvalue of $\\bf{A}$ if and only if\n",
    "## $$ \\det ( \\lambda \\bf{I} - \\bf{A} ) = 0 $$"
   ]
  },
  {
   "cell_type": "markdown",
   "id": "51ce865c-d2c4-4189-8c35-39ab8147096f",
   "metadata": {},
   "source": [
    "## ***Characteristic polynomial*** - definition\n",
    "\n",
    "### The function\n",
    "## $$ P(\\lambda) = \\det(\\lambda \\bf{I} - \\bf{A}) $$\n",
    "### is called ***characteristic polynomial*** of $\\bf{A}$.\n",
    "### The roots of $P(\\lambda)$ are the eigenvalues of $\\bf{A}$.\n",
    "\n",
    "### For a $2 \\times 2$ matrix $\\bf{A}$, $P(\\lambda)$ is a quadratic polynomial in the variable $\\lambda$. You will find that the coefficient of the $\\lambda^2$ is always $1$. So solving for $\\lambda$ or in other words, finding the eigenvalues of $\\bf{A}$, generally requires the quadratic formula.\n",
    "\n",
    "### Warning\n",
    "### We often calculate the eigenvalues by finding the roots of $\\det (\\bf{A} - \\lambda \\bf{I})$ instead.\n",
    "### $ \\det(\\bf{A} - \\lambda \\bf{I}) = \\det(\\lambda \\bf{I} - \\bf{A})$ for $2 \\times 2$ matrices (since $2$ is even)\n",
    "\n",
    "### Example\n",
    "### What is the charateristic polynomial of the matrix\n",
    "## $$ \\bf{A} = \\begin{pmatrix} -1 & 3 \\\\ 2 & 1 \\end{pmatrix} $$\n",
    "### ***Solution***\n",
    "### The characteristic polynomial of $\\bf{A}$ is\n",
    "## $$ \\det(\\bf{A} - \\lambda \\bf{I}) = \\det \\left( \\begin{pmatrix} -1 & 3 \\\\ 2 & 1 \\end{pmatrix} - \\lambda \\begin{pmatrix} 1 & 0 \\\\ 0 & 1 \\end{pmatrix} \\right) $$\n",
    "## $$ = \\det \\begin{pmatrix} -1 - \\lambda & 3 \\\\ 2 & 1 - \\lambda \\end{pmatrix} $$\n",
    "## $$ = (-1 - \\lambda) (1 - \\lambda) - (3) (2) $$\n",
    "## $$ \\lambda^2 - 7 $$"
   ]
  },
  {
   "cell_type": "markdown",
   "id": "47e91266-193c-446c-bc3d-f101485c8f6b",
   "metadata": {},
   "source": [
    "## Finding eigenvalues\n",
    "\n",
    "### Question\n",
    "### What are eigenvalues of $\\begin{pmatrix} 1 & -2 \\\\ -1 & 0 \\end{pmatrix}$\n",
    "### ***Solution***\n",
    "### The characteristic polynomial is\n",
    "## $$ P(\\lambda) = \\det(\\bf{A} - \\lambda \\bf{I}) = \\det \\begin{pmatrix} 1 - \\lambda & -2 \\\\ -1 & -\\lambda \\end{pmatrix} $$\n",
    "## $$ -\\lambda + \\lambda^2 - (-2)(-1) = \\lambda^2 - \\lambda - 2 = (\\lambda - 2)(\\lambda + 1) $$\n",
    "### The roots of $P(\\lambda)$  are $2$ and $-1$; therefore, the eigenvalues of $\\bf{A}$ are $2$ and $-1$\n"
   ]
  },
  {
   "cell_type": "markdown",
   "id": "5eece847-f159-456e-b798-4be585c99975",
   "metadata": {},
   "source": [
    "## Eigenvalues fact:\n",
    "### For any upper or lower triangular matrix or diagonal matrix - the eigenvalues are equal to its diagonal entries."
   ]
  },
  {
   "cell_type": "markdown",
   "id": "774b0853-9ec6-4e91-be19-d39e4306933c",
   "metadata": {},
   "source": [
    "## Finding the eigenvectors associated to an eigenvalue\n",
    "\n",
    "### The next step in solving the system $\\dot{bf{x}} = \\bf{A} \\bf{x}$ is to find the eigenvectors associated with each eigenvalue of $\\bf{A}$\n",
    "\n",
    "### An ***eigenvector associated with an eigenvalue $\\lambda$*** is a **nonzero** solution to the linear system below:\n",
    "## $$ (\\bf{A} - \\lambda \\bf{I}) $$"
   ]
  }
 ],
 "metadata": {
  "kernelspec": {
   "display_name": "Python 3",
   "language": "python",
   "name": "python3"
  },
  "language_info": {
   "codemirror_mode": {
    "name": "ipython",
    "version": 3
   },
   "file_extension": ".py",
   "mimetype": "text/x-python",
   "name": "python",
   "nbconvert_exporter": "python",
   "pygments_lexer": "ipython3",
   "version": "3.8.2"
  }
 },
 "nbformat": 4,
 "nbformat_minor": 5
}
