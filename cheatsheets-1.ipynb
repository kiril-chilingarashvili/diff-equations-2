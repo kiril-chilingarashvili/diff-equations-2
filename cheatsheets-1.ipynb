{
 "cells": [
  {
   "cell_type": "markdown",
   "id": "5a6eeb21-07ef-4f0b-972f-b49c470735f1",
   "metadata": {},
   "source": [
    "# Unit 1: Introduction to 2x2 systems"
   ]
  },
  {
   "cell_type": "code",
   "execution_count": null,
   "id": "65cbc2a2-3563-4df4-91a7-5787bf0e4258",
   "metadata": {},
   "outputs": [],
   "source": []
  }
 ],
 "metadata": {
  "kernelspec": {
   "display_name": "Python 3",
   "language": "python",
   "name": "python3"
  },
  "language_info": {
   "codemirror_mode": {
    "name": "ipython",
    "version": 3
   },
   "file_extension": ".py",
   "mimetype": "text/x-python",
   "name": "python",
   "nbconvert_exporter": "python",
   "pygments_lexer": "ipython3",
   "version": "3.8.8"
  }
 },
 "nbformat": 4,
 "nbformat_minor": 5
}
