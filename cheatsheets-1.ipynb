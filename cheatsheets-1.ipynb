{
 "cells": [
  {
   "cell_type": "markdown",
   "id": "5a6eeb21-07ef-4f0b-972f-b49c470735f1",
   "metadata": {},
   "source": [
    "# Unit 1: Introduction to 2x2 systems"
   ]
  },
  {
   "cell_type": "markdown",
   "id": "e44a88b5-be1e-41ac-a41c-05dee4e115bf",
   "metadata": {},
   "source": [
    "## Real life examples for homogenous linear systems of ODEs:\n",
    "\n",
    "### - ***Physics***: To send the Juno spacecraft to Jupiter, NASA scientists needed to understand the full system of gravitational attraction among the planets, and its effect on the velocity and acceleration of Juno. This gives rise to a system of differential equations.\n",
    "\n",
    "### - ***Electrical systems***: We have seen that an RLC circuit can be described by a single second order ODE. More complex circuits present in all electrical devices, such as computers and cell phones, are described by systems of differential equations.\n",
    "\n",
    "### - ***Chemical reactions***: The time derivative of the concentration of a chemical species is a function of the reaction rates and concentrations of other species. These relations give systems of DEs.\n",
    "\n",
    "### - ***Engineering***: Controlling robots, airplanes, and cars all require systems of differential equations.\n",
    "\n",
    "### - ***Computer graphics***: Life-like animations of fire, smoke, water, snow, and moving cloth in movies all require simulating systems of DEs.\n",
    "\n",
    "### - ***Gene expression network***: The time derivatives of mRNA and protein concentrations are functions of their degradation rates and transcription factors of the proteins. These relations constitute systems of DEs.\n",
    "\n",
    "### - ***Network dynamics***: How a virus spreads in a population, the flow of traffic, and information flow in a social network can all be described by systems of DEs."
   ]
  },
  {
   "cell_type": "markdown",
   "id": "8f66148b-d411-4247-9bb7-1bb1b0adfbdf",
   "metadata": {},
   "source": [
    "## Vectors\n",
    "\n",
    "### The first step to solving a system of linear DEs is to rewrite it as a ***vector equation***. To do this, we will first review basic vector and matrix arithmetic.\n",
    "\n",
    "### A vector represented as a column is called a ***column vector***. Example:\n",
    "## $$ \\begin{pmatrix} -2 \\\\ 1 \\end{pmatrix} $$\n",
    "\n",
    "### The set of all scalar multiples of a single vector form the line through origin that the vector lies on; the set of all positive scalar multiples of a single vector form a ***ray*** starting at the origin through the vector.\n",
    "![Ray](img/ray.png)"
   ]
  },
  {
   "cell_type": "markdown",
   "id": "c54b4441-fe9a-4b95-b00e-1cbc30a6f990",
   "metadata": {},
   "source": [
    "## Linear independence and basis in the plane\n",
    "\n",
    "### Two vectors are ***linearly dependent*** if they lie on the same line. Algebraically, one vector is a multiple of the other vector.\n",
    "### In $\\mathbb{R}^2$, two nonzero vectors are ***linearly independent*** if they do not lie on the same line through the origin.\n",
    "### A set of $n$ vectors being linearly independent means that there is no $(n-1)$-dimensional plane through the origin on which they all lie. \n",
    "\n",
    "### Examples:\n",
    "### $\\begin{pmatrix} -3 \\\\ -6 \\end{pmatrix}$ and $\\begin{pmatrix} 1 \\\\ 2 \\end{pmatrix}$ are linearly dependent since $\\begin{pmatrix} -3 \\\\ -6 \\end{pmatrix} = -3 \\begin{pmatrix} 1 \\\\ 2 \\end{pmatrix}$\n",
    "### $\\begin{pmatrix} 0 \\\\ 0 \\end{pmatrix}$ is dependent on all vectors since $\\begin{pmatrix} 0 \\\\ 0 \\end{pmatrix} = 0 \\begin{pmatrix} a \\\\ b \\end{pmatrix}$"
   ]
  },
  {
   "cell_type": "markdown",
   "id": "d97b7bb2-37b2-42ca-8af2-75a21bfd0645",
   "metadata": {},
   "source": [
    "## Definition 3.3\n",
    "### A ***linear combination*** of vectors $v_1$ and $v_2$ is a sum\n",
    "## $$ c_1 v_1 + c_2 v_2 $$\n",
    "### where $c_1$ and $c_2$ are scalars.\n",
    "\n"
   ]
  },
  {
   "cell_type": "markdown",
   "id": "0941ab46-e3bc-42c3-b101-4a192e36de3f",
   "metadata": {},
   "source": [
    "## Example 3.4\n",
    "\n",
    "### The standard basis of $\\mathbb{R}^2$ is the pair of vectors\n",
    "## $$ \\begin{pmatrix} 1 \\\\ 0 \\end{pmatrix}, \\begin{pmatrix} 0 \\\\ 1 \\end{pmatrix} $$\n",
    "\n",
    "### Every vector in $\\mathbb{R}^2$ can be expressed as a linear combination of these vectors:\n",
    "## $$ \\begin{pmatrix} a \\\\ b \\end{pmatrix} = a \\begin{pmatrix} 1 \\\\ 0 \\end{pmatrix} + b \\begin{pmatrix} 0 \\\\ 1 \\end{pmatrix} $$\n",
    "\n",
    "### Every pair of linearly independent vectors in $\\mathbb{R}^2$ is a basis of $\\mathbb{R}^2$.\n"
   ]
  },
  {
   "cell_type": "markdown",
   "id": "a9b8e035-32e9-4e66-aef1-794c0010e8b2",
   "metadata": {},
   "source": [
    "## Vector valued functions\n",
    "\n",
    "### The trajectory of a point in $\\mathbb{R}^2$\n",
    "![The trajectory of a point](img/trajectory.png)\n",
    "\n",
    "### The trajectory of a point in $\\mathbb{R}^2$ can be represented by the vector function\n",
    "## $$ \\begin{pmatrix} x(t) \\\\ y(t) \\end{pmatrix} $$\n",
    "### where $x = x(t)$ and $y = y(t)$ are the changing $xy$-coordinates of the point at the time $t$. (You may have seen this called a ***parametric curve***.)\n",
    "### The entries of a vector may represent other quantities. (For example levels of fluid in two connected tanks)\n",
    "\n",
    "\n"
   ]
  },
  {
   "cell_type": "markdown",
   "id": "063aa8a7-4c58-4937-8a43-f6cc8b432d0e",
   "metadata": {},
   "source": [
    "## Derivatives of vector functions\n",
    "\n",
    "### To find the derivative of a vector, we differentiate each of its components. In particular, the derivative of a vector is another vector with the same number of components.\n",
    "\n",
    "### For example,\n",
    "## $$ \\frac{d}{dt}\\begin{pmatrix}h_1 \\\\ h_2 \\end{pmatrix} = \\begin{pmatrix} \\dot{h_1} \\\\ \\dot{h_2} \\end{pmatrix} $$\n",
    "### If\n",
    "## $$ \\begin{pmatrix} x \\\\ y \\end{pmatrix} = \\begin{pmatrix} x(t) \\\\ y(t) \\end{pmatrix} $$\n",
    "### is the trajectory of a curve, then\n",
    "## $$ \\begin{pmatrix} \\dot{x} \\\\ \\dot{y} \\end{pmatrix} $$\n",
    "### is the velocity vector.\n"
   ]
  },
  {
   "cell_type": "markdown",
   "id": "81b79406-e066-4203-b400-07cf02eda8a5",
   "metadata": {},
   "source": [
    "## Example of the ***first order system of ODEs***:\n",
    "\n",
    "## $$ \\frac{dh_1}{dt} = a(h_2-h_1) $$\n",
    "## $$ \\frac{dh_2}{dt} = a(h_1-h_2) $$\n",
    "### after rewriting by using shorter notation\n",
    "## $$ \\dot{h_1} = -a h_1 + a h_2 $$\n",
    "## $$ \\dot{h_2} = a h_1 - a h_2 $$\n",
    "### Matrix form of the system\n",
    "## $$ \\begin{pmatrix} \\dot{h_1} \\\\ \\dot{h_2} \\end{pmatrix} = \\begin{pmatrix} -a & a \\\\ a & -a \\end{pmatrix} \\begin{pmatrix} h_1 \\\\ h_2 \\end{pmatrix} $$\n",
    "\n",
    "### $\\begin{pmatrix} -a & a \\\\ a & -a \\end{pmatrix}$ is known as the ***coefficient matrix*** of the system. This matrix encodes all information of the system.\n"
   ]
  },
  {
   "cell_type": "markdown",
   "id": "12ba81bc-963d-46ce-aa3a-f44e36299d20",
   "metadata": {},
   "source": [
    "## Condensed vector and matrix notation\n",
    "\n",
    "### Example:\n",
    "## $$ \\frac{d}{dt} \\begin{pmatrix} T_1 \\\\ T_2 \\end{pmatrix} = \\begin{pmatrix} e & f \\\\ g & h \\end{pmatrix} \\begin{pmatrix} T_1 \\\\ T_2 \\end{pmatrix} + \\begin{pmatrix} 0 \\\\ b T_e \\end{pmatrix} $$\n",
    "### Let \n",
    "## $$ \\bf{x} = \\begin{pmatrix} T_1 \\\\ T_2 \\end{pmatrix} $$\n",
    "## $$ \\bf{A} = \\begin{pmatrix} e & f \\\\ g & h \\end{pmatrix} $$\n",
    "## $$ \\bf{b} = \\begin{pmatrix} 0 \\\\ b T_e \\end{pmatrix} $$\n",
    "### Then:\n",
    "## $$ \\frac{d}{dt} \\begin{pmatrix} T_1 \\\\ T_2 \\end{pmatrix} = \\begin{pmatrix} e & f \\\\ g & h \\end{pmatrix} \\begin{pmatrix} T_1 \\\\ T_2 \\end{pmatrix} + \\begin{pmatrix} 0 \\\\ b T_e \\end{pmatrix} \\iff \\frac{d}{dt} \\bf{x} = \\bf{A} \\bf{x} + \\bf{b} $$\n",
    "### With dot notation\n",
    "## $$ \\bf{\\dot{x}} = \\bf{A} \\bf{x} + \\bf{b} $$"
   ]
  },
  {
   "cell_type": "markdown",
   "id": "ea1e4a9e-89fb-4f5a-8fa9-ad211aeb8bf2",
   "metadata": {},
   "source": [
    "## Definition 9.1\n",
    "\n",
    "### A 2X2 ***first order linear*** system of ODEs is one that can be written in the form\n",
    "## $$ \\begin{pmatrix} \\dot{x} \\\\ \\dot{y} \\end{pmatrix} = \\begin{pmatrix} a & b \\\\ c & d \\end{pmatrix} \\begin{pmatrix} x \\\\ y \\end{pmatrix} + \\begin{pmatrix} r_1 \\\\ r_2\\end{pmatrix} $$\n",
    "### or more compactly\n",
    "## $$ \\dot{\\bf{x}} = \\bf{A} \\bf{x} + \\bf{r}$$\n",
    "### Here\n",
    "### - $t$ - is independent variable\n",
    "### - $\\bf{x}$ - is the vector of the dependent variables $\\bf{x} = \\bf{x}(t) = \\begin{pmatrix} x(t) \\\\ y(t) \\end{pmatrix}$.\n",
    "### - $\\bf{A} = \\bf{A}(t)$ - may depend on $t$ but not on any dependent variables. For example it can be $\\bf{A} = \\begin{pmatrix} \\cos(t) & \\sin(t) \\\\ -\\sin(t) & \\cos(t) \\end{pmatrix}$\n",
    "### - $\\bf{r} = \\bf{r}(t)$ - may depend on $t$ but not on any dependent variables. For example it can be $\\bf{r} = \\begin{pmatrix} e^t \\\\ t \\end{pmatrix}$\n",
    "### The system is called ***first order*** because highest derivatives invoolved are first derivatives\n",
    "### The system is called ***homogeneous*** if $\\bf{r}(t)$ equals the zero vector, and ***inhomogeneous*** if $\\bf{r}(t)$ is nonzero.\n"
   ]
  },
  {
   "cell_type": "markdown",
   "id": "3289733b-9fb6-4211-b8c6-af1d33fa9665",
   "metadata": {},
   "source": [
    "## ***Companion System***\n",
    "\n",
    "### We can make companion systems for higher order linear differential equations by introducing new function variables for the derivatives.\n",
    "\n",
    "### > ***Third order systems***\n",
    "### Given a third order linear ODE\n",
    "## $$ D^3 x + a_2 D^2 x + a_1 D x + a_0 x = 0, (D = \\frac{d}{dt} $$\n",
    "#### define\n",
    "## $$ y = D x $$\n",
    "## $$ z = Dy = D^2 x $$\n",
    "### Then the DE can be written as\n",
    "## $$ D z = -a_2 z - a_1 y - a_0 x $$\n",
    "### Therefore, we have a system of three equations, which in vector notation is\n",
    "## $$ \\frac{d}{dt} \\begin{pmatrix}x \\\\ y \\\\ z \\end{pmatrix} = \\begin{pmatrix} 0 & 1 & 0 \\\\ 0 & 0 & 1 \\\\ -a_0 & -a_1 & -a_2 \\end{pmatrix} \\begin{pmatrix} x \\\\ y \\\\z \\end{pmatrix} $$\n",
    "\n",
    "### > ***n<sup>th</sup> order systems***\n",
    "\n",
    "### We can do the same thing generally. Given an n<sup>th</sup> order ODE\n",
    "## $$ D^n + a_{n-1} D^{n-1} x + a_{n - 2} d^{n - 2} x + \\ldots + a_1 D x + a_0 x = 0$$\n",
    "### define\n",
    "## $$ x_0 = x $$\n",
    "## $$ x_k = D x_{k - 1}, \\, \\text{ for } \\, 0 < k \\leq n - 1 $$\n",
    "### Then the DE can be written as\n",
    "## $$ D x_{n - 1} = -a_{n - 1} x_{n - 1} - a_{n - 2} x_{n - 2} - \\ldots - a_1 x_1 - a_0 x_0 $$\n",
    "### Therefore, we have a system of  equations, which in vector notation becomes\n",
    "## $$ \\frac{d}{dt} \\begin{pmatrix} x_0 \\\\ x_1 \\\\ \\vdots \\\\ x_{n - 2} \\\\ x_{n - 1} \\end{pmatrix} = \\begin{pmatrix} 0 & 1 & 0 & \\cdots & 0 \\\\ 0 & 0 & 1 & \\cdots & 0 \\\\ \\vdots & \\vdots & \\vdots & \\ddots & \\vdots \\\\ 0 & 0 & 0 & \\cdots & 1 \\\\ -a_0 & -a_1 & -a_2 & \\cdots & -a_{n - 1} \\end{pmatrix} \\begin{pmatrix} x_0 \\\\ x_1 \\\\ \\vdots \\\\ x_{n - 2} \\\\ x_{n - 1} \\end{pmatrix} $$\n",
    "\n",
    "### Remark: The dimension of the companion system corresponds to the order of the single ODE we started with."
   ]
  },
  {
   "cell_type": "code",
   "execution_count": null,
   "id": "9278e5cb-6b92-45c2-9d52-3def9b7f69b8",
   "metadata": {},
   "outputs": [],
   "source": []
  }
 ],
 "metadata": {
  "kernelspec": {
   "display_name": "Python 3",
   "language": "python",
   "name": "python3"
  },
  "language_info": {
   "codemirror_mode": {
    "name": "ipython",
    "version": 3
   },
   "file_extension": ".py",
   "mimetype": "text/x-python",
   "name": "python",
   "nbconvert_exporter": "python",
   "pygments_lexer": "ipython3",
   "version": "3.8.8"
  }
 },
 "nbformat": 4,
 "nbformat_minor": 5
}
