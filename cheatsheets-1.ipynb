{
 "cells": [
  {
   "cell_type": "markdown",
   "id": "5a6eeb21-07ef-4f0b-972f-b49c470735f1",
   "metadata": {},
   "source": [
    "# Unit 1: Introduction to 2x2 systems"
   ]
  },
  {
   "cell_type": "markdown",
   "id": "e44a88b5-be1e-41ac-a41c-05dee4e115bf",
   "metadata": {},
   "source": [
    "## Real life examples for homogenous linear systems of ODEs:\n",
    "\n",
    "### - ***Physics***: To send the Juno spacecraft to Jupiter, NASA scientists needed to understand the full system of gravitational attraction among the planets, and its effect on the velocity and acceleration of Juno. This gives rise to a system of differential equations.\n",
    "\n",
    "### - ***Electrical systems***: We have seen that an RLC circuit can be described by a single second order ODE. More complex circuits present in all electrical devices, such as computers and cell phones, are described by systems of differential equations.\n",
    "\n",
    "### - ***Chemical reactions***: The time derivative of the concentration of a chemical species is a function of the reaction rates and concentrations of other species. These relations give systems of DEs.\n",
    "\n",
    "### - ***Engineering***: Controlling robots, airplanes, and cars all require systems of differential equations.\n",
    "\n",
    "### - ***Computer graphics***: Life-like animations of fire, smoke, water, snow, and moving cloth in movies all require simulating systems of DEs.\n",
    "\n",
    "### - ***Gene expression network***: The time derivatives of mRNA and protein concentrations are functions of their degradation rates and transcription factors of the proteins. These relations constitute systems of DEs.\n",
    "\n",
    "### - ***Network dynamics***: How a virus spreads in a population, the flow of traffic, and information flow in a social network can all be described by systems of DEs."
   ]
  },
  {
   "cell_type": "markdown",
   "id": "8f66148b-d411-4247-9bb7-1bb1b0adfbdf",
   "metadata": {},
   "source": [
    "## Vectors\n",
    "\n",
    "### The first step to solving a system of linear DEs is to rewrite it as a ***vector equation***. To do this, we will first review basic vector and matrix arithmetic.\n",
    "\n",
    "### A vector represented as a column is called a ***column vector***. Example:\n",
    "## $$ \\begin{pmatrix} -2 \\\\ 1 \\end{pmatrix} $$\n",
    "\n",
    "### The set of all scalar multiples of a single vector form the line through origin that the vector lies on; the set of all positive scalar multiples of a single vector form a ***ray*** starting at the origin through the vector.\n",
    "![Ray](img/ray.png)"
   ]
  },
  {
   "cell_type": "markdown",
   "id": "c54b4441-fe9a-4b95-b00e-1cbc30a6f990",
   "metadata": {},
   "source": [
    "## Linear independence and basis in the plane\n",
    "\n",
    "### Two vectors are ***linearly dependent*** if they lie on the same line. Algebraically, one vector is a multiple of the other vector.\n",
    "### In $\\mathbb{R}^2$, two nonzero vectors are ***linearly independent*** if they do not lie on the same line through the origin.\n",
    "### A set of $n$ vectors being linearly independent means that there is no $(n-1)$-dimensional plane through the origin on which they all lie. \n",
    "\n",
    "### Examples:\n",
    "### $\\begin{pmatrix} -3 \\\\ -6 \\end{pmatrix}$ and $\\begin{pmatrix} 1 \\\\ 2 \\end{pmatrix}$ are linearly dependent since $\\begin{pmatrix} -3 \\\\ -6 \\end{pmatrix} = -3 \\begin{pmatrix} 1 \\\\ 2 \\end{pmatrix}$\n",
    "### $\\begin{pmatrix} 0 \\\\ 0 \\end{pmatrix}$ is dependent on all vectors since $\\begin{pmatrix} 0 \\\\ 0 \\end{pmatrix} = 0 \\begin{pmatrix} a \\\\ b \\end{pmatrix}$"
   ]
  },
  {
   "cell_type": "markdown",
   "id": "d97b7bb2-37b2-42ca-8af2-75a21bfd0645",
   "metadata": {},
   "source": [
    "## Definition 3.3\n",
    "### A ***linear combination*** of vectors $v_1$ and $v_2$ is a sum\n",
    "## $$ c_1 v_1 + c_2 v_2 $$\n",
    "### where $c_1$ and $c_2$ are scalars.\n",
    "\n"
   ]
  },
  {
   "cell_type": "markdown",
   "id": "0941ab46-e3bc-42c3-b101-4a192e36de3f",
   "metadata": {},
   "source": [
    "## Example 3.4\n",
    "\n",
    "### The standard basis of $\\mathbb{R}^2$ is the pair of vectors\n",
    "## $$ \\begin{pmatrix} 1 \\\\ 0 \\end{pmatrix}, \\begin{pmatrix} 0 \\\\ 1 \\end{pmatrix} $$\n",
    "\n",
    "### Every vector in $\\mathbb{R}^2$ can be expressed as a linear combination of these vectors:\n",
    "## $$ \\begin{pmatrix} a \\\\ b \\end{pmatrix} = a \\begin{pmatrix} 1 \\\\ 0 \\end{pmatrix} + b \\begin{pmatrix} 0 \\\\ 1 \\end{pmatrix} $$\n",
    "\n",
    "### Every pair of linearly independent vectors in $\\mathbb{R}^2$ is a basis of $\\mathbb{R}^2$.\n"
   ]
  },
  {
   "cell_type": "markdown",
   "id": "a9b8e035-32e9-4e66-aef1-794c0010e8b2",
   "metadata": {},
   "source": [
    "## Vector valued functions\n",
    "\n",
    "### The trajectory of a point in $\\mathbb{R}^2$\n",
    "![The trajectory of a point](img/trajectory.png)\n",
    "\n",
    "### The trajectory of a point in $\\mathbb{R}^2$ can be represented by the vector function\n",
    "## $$ \\begin{pmatrix} x(t) \\\\ y(t) \\end{pmatrix} $$\n",
    "### where $x = x(t)$ and $y = y(t)$ are the changing $xy$-coordinates of the point at the time $t$. (You may have seen this called a ***parametric curve***.)\n",
    "### The entries of a vector may represent other quantities. (For example levels of fluid in two connected tanks)\n",
    "\n",
    "\n"
   ]
  },
  {
   "cell_type": "markdown",
   "id": "063aa8a7-4c58-4937-8a43-f6cc8b432d0e",
   "metadata": {},
   "source": [
    "## Derivatives of vector functions\n",
    "\n",
    "### To find the derivative of a vector, we differentiate each of its components. In particular, the derivative of a vector is another vector with the same number of components.\n",
    "\n",
    "### For example,\n",
    "## $$ \\frac{d}{dt}\\begin{pmatrix}h_1 \\\\ h_2 \\end{pmatrix} = \\begin{pmatrix} \\dot{h_1} \\\\ \\dot{h_2} \\end{pmatrix} $$\n",
    "### If\n",
    "## $$ \\begin{pmatrix} x \\\\ y \\end{pmatrix} = \\begin{pmatrix} x(t) \\\\ y(t) \\end{pmatrix} $$\n",
    "### is the trajectory of a curve, then\n",
    "## $$ \\begin{pmatrix} \\dot{x} \\\\ \\dot{y} \\end{pmatrix} $$\n",
    "### is the velocity vector.\n"
   ]
  },
  {
   "cell_type": "markdown",
   "id": "81b79406-e066-4203-b400-07cf02eda8a5",
   "metadata": {},
   "source": [
    "## Example of the ***first order system of ODEs***:\n",
    "\n",
    "## $$ \\frac{dh_1}{dt} = a(h_2-h_1) $$\n",
    "## $$ \\frac{dh_2}{dt} = a(h_1-h_2) $$\n",
    "### after rewriting by using shorter notation\n",
    "## $$ \\dot{dh_1} = -a h_1 + a h_2 $$\n",
    "## $$ \\dot{dh_2} = a h_1 - a h_2 $$\n",
    "### Matrix form of the system\n",
    "## $$ \\begin{pmatrix} \\dot{dh_1} \\\\ \\dot{dh_2} \\end{pmatrix} = \\begin{pmatrix} -a & a \\\\ a & -a \\end{pmatrix} \\begin{pmatrix} h_1 \\\\ h_2 \\end{pmatrix} $$\n",
    "\n",
    "### $\\begin{pmatrix} -a & a \\\\ a & -a \\end{pmatrix}$ is known as the ***coefficient matrix*** of the system. This matrix encodes all information of the system.\n"
   ]
  },
  {
   "cell_type": "code",
   "execution_count": null,
   "id": "041996dd-9c71-4e07-bbbf-1d2dd4719f2c",
   "metadata": {},
   "outputs": [],
   "source": []
  }
 ],
 "metadata": {
  "kernelspec": {
   "display_name": "Python 3",
   "language": "python",
   "name": "python3"
  },
  "language_info": {
   "codemirror_mode": {
    "name": "ipython",
    "version": 3
   },
   "file_extension": ".py",
   "mimetype": "text/x-python",
   "name": "python",
   "nbconvert_exporter": "python",
   "pygments_lexer": "ipython3",
   "version": "3.8.2"
  }
 },
 "nbformat": 4,
 "nbformat_minor": 5
}
