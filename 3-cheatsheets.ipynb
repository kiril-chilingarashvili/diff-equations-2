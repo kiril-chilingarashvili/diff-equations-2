{
 "cells": [
  {
   "cell_type": "markdown",
   "id": "8450f92e-efd5-4469-8a45-82d7a2679e36",
   "metadata": {},
   "source": [
    "# Unit 3: Nonlinear 2x2 systems\n"
   ]
  },
  {
   "cell_type": "markdown",
   "id": "8228f31a-6cbd-44e8-8ecb-941815080f1b",
   "metadata": {},
   "source": [
    "## Autonomous non-linear equations\n",
    "### We now study a system of two coupled first order ***autonomous non-linear*** equations in two unknown functions $x(t)$ and $y(t)$:\n",
    "## $$ \\dot{x} = f(x, y) $$\n",
    "## $$ \\dot{y} = h(x, y) $$\n",
    "### where $f$ and $h$ do not depend explicitly on the independent variable $t$, but need not be linear functions of $x$ and $y$ \n",
    "\n",
    "### In general, there is no systematic method to solve such non-linear systems exactly. \n",
    "### Instead, we will use what we have learned about $2 \\times 2$ linear systems to obtain qualitative information of the solutions to the non-linear systems. We will sketch the trajectories of solutions on the phase plane."
   ]
  },
  {
   "cell_type": "markdown",
   "id": "81d787fb-3d3f-4d31-a93c-60be094c0c65",
   "metadata": {},
   "source": [
    "## Modeling the Pendulum\n",
    "\n",
    "### Modeling a lightly damped pendulum, consisting of a mass attached to a rod hanging from a pivot at the top.\n",
    "### ***Parameters and functions***: Define\n",
    "### ***$m$***: mass\n",
    "### ***$l$***: length of rod\n",
    "### ***$t$***: time\n",
    "### ***$\\theta$***: angle measured counterclockwise from the rest position\n",
    "\n",
    "### Here $m$ and $l$ are system parameters, $t$ is the independent variable, and $\\theta$ is a function of $t$\n",
    "\n",
    "### ***Simplifying assumptions***:\n",
    "### - The rod has negligible mass.\n",
    "### - The rod does not bend or stretch.\n",
    "### - The pivot is such that the motion is in a plane, so there is no Coriolis effect.\n",
    "### - The local gravitational field $g$ is a constant, assuming the pendulum is not thousands of kilometers tall.\n",
    "![Pendulum](img/pendulum.png)\n",
    "\n",
    "### ***Equation***:\n",
    "### The motion of the mass is governed by Newton's second law\n",
    "## $$ m\\bf{a}=\\bf{F} $$\n",
    "\n",
    "### The net force $\\bf{F}$ consists of two components: the radial component, in the direction of $\\hat{r}$ which is along the rod, and the tangential component, in the direction of $\\hat{\\theta}$ which is tangent to the arc traced out by the mass as it moves. At each position along the arc, these two components are perpendicular to one another.\n",
    "\n",
    "### The radial component of $\\bf{F}$ is zero, since the rod is rigid and its tension cancels the radial component of the gravitational force regardless of the position of the mass.\n",
    "\n",
    "### The tangential component gives the differential equation determining the motion of the pendulum. Recall that arc length is the product of the radius and the sweeping angle. The pendulum has radius $l$ so the tangential component of the acceleration is $l\\ddot{\\theta}$ If the pendulum was frictionless, the net force in the tangential direction $\\hat{\\theta}$ would be\n",
    "\n",
    "## $$ F_{\\hat{\\theta}} = m (l\\ddot{\\theta}) = \\underbrace{-mg\\sin(\\theta)}_{\\text{gravity}} $$\n",
    "\n",
    "### More realistically, the pendulum has friction, which can be assumed to be proportional to the tangential velocity $\\dot{\\theta}$ with $b$ as the constant of proportionality. Hence, the net force is\n",
    "## $$ F_{\\hat{\\theta}} = m (l\\ddot{\\theta}) = \\underbrace{-b(l\\dot{\\theta})}_{\\text{friction}} - \\underbrace{-mg\\sin(\\theta)}_{\\text{gravity}} $$\n",
    "\n",
    "### Dividing both sides by $m$ and $l$ and rearranging, we have\n",
    "## $$ \\ddot{\\theta} + \\frac{b}{m}\\dot{\\theta}+\\frac{g}{l}\\sin(\\theta) = 0 $$\n",
    "\n",
    "### The first two terms, $\\ddot{\\theta}$ and $\\frac{b}{m} \\dot{\\theta}$ are linear, but the third term $\\frac{g}{l}\\sin(\\theta)$ is non-linear in $\\theta$ and makes this entire second order differential equation ***non-linear***.\n",
    "### In the following discussion on the pendulum, we will assume its mass is $m=1$ and its length $l=1$ for simplicity (which is equivalent to measuring mass in units of $m$ and length in units of $l$). The DE then reduces to\n",
    "## $$ \\ddot{\\theta} + b\\dot{\\theta}+g\\sin(\\theta) = 0 \\quad (b, q > 0) $$\n",
    "\n",
    "### ***Remark 3.2***   \n",
    "### When $\\theta$ is small, it is reasonable to replace the non-linear term by its best linear approximation at $\\theta=0$, namely $\\sin(\\theta) \\approx \\theta$ This leads to\n",
    "## $$ \\ddot{\\theta} + b\\dot{\\theta}+g \\theta = 0 $$\n",
    "### the second order linear ODE for a damped oscillator with unit mass, damping constant $b$ and spring constant $g$. This process is called ***linearizing*** the non-linear ODE."
   ]
  },
  {
   "cell_type": "markdown",
   "id": "e6ece68c-b12b-4bad-8472-4e86b2316974",
   "metadata": {},
   "source": [
    "## Converting to a first-order system\n",
    "\n",
    "### To get an accurate understanding of the pendulum when $\\theta$ is not always small, we need to analyze the differential equation\n",
    "## $$ \\ddot{\\theta} + b\\dot{\\theta}+g\\sin(\\theta) = 0 $$\n",
    "### in its full non-linear glory. \n",
    "\n",
    "### It is a ***second-order non-linear ODE***, which we have not developed tools for.\n",
    "### To tackle it, we start by converting the single ODE to its companion system by defining a new variable $\\omega = \\dot{\\theta}$ the angular velocity of the mass:\n",
    "## $$ \\dot{\\theta} = \\omega $$\n",
    "## $$ \\dot{\\omega} = -b\\omega - g\\sin(\\theta) $$\n",
    "### The companion system is a ***first order non-linear system*** of the form\n",
    "\n",
    "## $$ \\dot{\\theta} = f(\\theta, \\omega) $$\n",
    "## $$ \\dot{\\omega} = h(\\theta, \\omega) $$\n",
    "\n",
    "### It is ***autonomous*** because the right hand sides of both equations do not depend on time explicitly.\n",
    "\n",
    "### For general non-linear equations, converting to a first order companion system is often a good first step to take. This is what many numerical differential equation solvers do. Let us start by thinking about the geometric interpretation of such a system."
   ]
  },
  {
   "cell_type": "markdown",
   "id": "0642755f-0c56-41a7-bc2d-d87c92963e5a",
   "metadata": {},
   "source": [
    "## Geometric interpretation of an autonomous system\n",
    "\n",
    "### Just as in the linear case, a solution to a general $2 \\times 2$ system is given by two functions of time $x(t), y(t)$ \n",
    "### One can plot this in the $3$-dimensional $(t,x,y)$-space, but this may be difficult to draw and to decipher. Therefore, instead, we draw the solution as a ***parametrized curve*** in the phase plane (or $(x, y)$-plane).\n",
    "### ***Question 5.1***  \n",
    "### What is the geometric meaning of the following autonomous system?\n",
    "## $$ \\begin{pmatrix} \\dot{x}(t) \\\\ \\dot{y}(t) \\end{pmatrix} = \\begin{pmatrix} f(x, y) \\\\ h(x, y) \\end{pmatrix} $$\n",
    "\n",
    "### ***Answer***\n",
    "### The vector function $\\begin{pmatrix} x(t) \\\\ y(t) \\end{pmatrix} $ describes the motion of the solution on the phase plane. The autonomous system gives the magnitude and direction of the velocity of the motion, $\\begin{pmatrix} \\dot{x} \\\\ \\dot{y} \\end{pmatrix} = \\begin{pmatrix} f(x, y) \\\\ h(x, y) \\end{pmatrix} $ at each point $(x, y)$ on the plane.\n",
    "\n",
    "### ***Example 5.2***\n",
    "### Recall the $2 \\times 2$ autonomous system describing a pendulum with unit mass and unit length:\n",
    "## $$ \\dot{\\theta} = \\omega $$\n",
    "## $$ \\dot{\\omega} = -b\\omega - g\\sin(\\theta) $$\n",
    "### What are the velocity vectors at the points $(\\theta, \\omega) = \\left( \\frac{\\pi}{2}, 0 \\right)$ and $\\left( \\frac{3\\pi}{2}, 0 \\right)$?\n",
    "\n",
    "### ***Warning***: Here, we are referring to the velocity vector of the solution in the phase plane. This is different from the velocity or angular velocity of the pendulum mass.\n",
    "\n",
    "### ***Solution***: \n",
    "### At the point $(\\theta, \\omega) = \\left( \\frac{\\pi}{2}, 0 \\right)$,\n",
    "## $$ \\begin{pmatrix} \\dot{\\theta} \\\\ \\dot{\\omega} \\end{pmatrix} = \\begin{pmatrix} 0 \\\\ 0 - g \\sin(\\frac{\\pi}{2}) \\end{pmatrix} = \\begin{pmatrix} 0 \\\\ -g \\end{pmatrix}  $$\n",
    "### This velocity vector points downwards and originates from $\\left( \\frac{\\pi}{2}, 0 \\right)$ on the phase plane.\n",
    "### At the point $(\\theta, \\omega) = \\left( \\frac{3\\pi}{2}, 0 \\right)$,\n",
    "## $$ \\begin{pmatrix} \\dot{\\theta} \\\\ \\dot{\\omega} \\end{pmatrix} = \\begin{pmatrix} 0 \\\\ 0 - g \\sin(\\frac{3\\pi}{2}) \\end{pmatrix} = \\begin{pmatrix} 0 \\\\ g \\end{pmatrix}  $$\n",
    "### This velocity vector points upwards and originates from $\\left( \\frac{3\\pi}{2}, 0 \\right)$ on the phase plane.\n",
    "### Since $\\omega = \\dot{\\theta}$ we do expect that the horizontal components of the velocity vectors $\\begin{pmatrix} \\dot{\\theta} \\\\ \\dot{\\omega} \\end{pmatrix} $ to vanish on the horizontal axis, where $\\omega = 0$"
   ]
  },
  {
   "cell_type": "markdown",
   "id": "666f0ad1-5c70-4d13-be1f-8e7bbb26d32f",
   "metadata": {},
   "source": [
    "## Velocity Field\n",
    "\n",
    "### The velocity vectors of the solution at all points on the phase plane comprise a ***vector field***. Hence, an autonomous system defines a vector field.\n",
    "\n",
    "### If you draw all the vectors to scale, the picture will become inscrutable! The main use of the velocity field is to help us sketch the trajectories of solutions. This can be done using only the directions of the velocity vectors, and so we will sketch only the direction of the velocity vectors at each point. This sketch is called a ***direction field***. Later on, we may not draw the velocity vectors at all, but rather just sketch trajectories with arrow on them indicating the direction of motion.\n",
    "### Mathlet link: https://mathlets.org/mathlets/vector-fields\n",
    "![Velocity Field](img/velocity-field.png)\n",
    "\n",
    "### Comparison with slope field\n",
    "\n",
    "### Recall (from the course introduction to differential equations) that a single non-linear differential equation\n",
    "\n",
    "## $$ \\dot{x} = f(t, x) $$\n",
    "\n",
    "### defines a slope field by giving the value of the slope $\\frac{dx}{dt}$ of the solution curve at each point on the $(t, x)$-plane. \n",
    "### Here, time $t$ is the independent variable, and $x$ is the dependent variable, the system response that we are interested in.\n",
    "### A picture of the slope field consists of short line segments, with no direction, depicting the slope of $x(t)$ at each point. \n",
    "### Any curve that is tangent to the slope field at each time $t$ is a solution curve. \n",
    "### Recall that for an autonomous DE $\\dot{x} = f(x)$ the slope field is invariant under time translation.\n",
    "\n",
    "### On the other hand, the direction field discussed above, defined by the direction of the vector $(f(x, y), h(x, y)$ at each point $(x, y)$ indicates the direction in which the solution moves in the phase plane as $t$ increases. \n",
    "### A curve along this direction field is a trajectory of a solution on the phase plane. It does not capture all information of a solution since it does not show how fast the solution is moving in time."
   ]
  },
  {
   "cell_type": "code",
   "execution_count": null,
   "id": "f6404c38-ae43-4be5-8aeb-8f80c3d03516",
   "metadata": {},
   "outputs": [],
   "source": []
  }
 ],
 "metadata": {
  "kernelspec": {
   "display_name": "Python 3",
   "language": "python",
   "name": "python3"
  },
  "language_info": {
   "codemirror_mode": {
    "name": "ipython",
    "version": 3
   },
   "file_extension": ".py",
   "mimetype": "text/x-python",
   "name": "python",
   "nbconvert_exporter": "python",
   "pygments_lexer": "ipython3",
   "version": "3.8.8"
  }
 },
 "nbformat": 4,
 "nbformat_minor": 5
}
