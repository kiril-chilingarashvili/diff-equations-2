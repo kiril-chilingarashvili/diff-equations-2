{
 "cells": [
  {
   "cell_type": "markdown",
   "id": "4452e983-1ce9-41dd-99a6-c4fcbee072b1",
   "metadata": {},
   "source": [
    "# Unit 2: The geometry of solutions"
   ]
  },
  {
   "cell_type": "markdown",
   "id": "03d66cbe-36f2-4979-8fa5-b4b7ad6f1daf",
   "metadata": {},
   "source": [
    "## Sketching solutions\n",
    "\n",
    "### Visualizing a solution\n",
    "## $$ \\bf{x} = \\begin{pmatrix} x(t) \\\\ y(t) \\end{pmatrix} $$\n",
    "### to\n",
    "## $$ \\bf{\\dot{x}} = \\bf{A} \\bf{x} $$\n",
    "### for a constant $2 \\times 2$ real matrix $\\bf{A}$\n",
    "\n",
    "### Procedure:\n",
    "### Make two plots, the first showing $x(t)$ as a function of $t$, and the second showing $y(t)$ as a function of $t$.\n",
    "\n",
    "### ***Detailed Procedure***:\n",
    "### Draw the solution as a parametrized curve on the $(x,y)$-plane. In other words, plot the point $(x(t), y(t))$ for every real number $t$ (including negative $t$). The differential equation $ \\bf{\\dot{x}} = \\bf{A} \\bf{x} $ specifies which direction the point $(x(t), y(t))$ will move next (and how fast), in terms of its current position.\n",
    "### ***Warm up***: trajectory of $\\bf{v} e^{\\lambda t}$\n",
    "### Recall that if $\\bf{v}$ is an eigenvector associated to a real eigenvalue $\\lambda$ of a matrix $\\bf{A}$, then $\\bf{v} e^{\\lambda t}$ is a solution to $ \\bf{\\dot{x}} = \\bf{A} \\bf{x} $. Sketch the trajectory of such a solution on the $(x, y)$-plane.\n",
    "\n",
    "### ***Solution***:\n",
    "### Since $\\lambda$ is real, $e^{\\lambda t}>0$ for all $t$. Therefore each point of the solution $\\bf{v} e^{\\lambda t}$ is a positive scalar multiple of $\\bf{v}$. This means the trajectory lies on the ray through the eigenvector $\\bf{v}$ The direction of the trajectory depends on the sign of $\\lambda$ as follow:\n",
    "### - If $\\lambda = 0$, the trajectory is a single point because $\\begin{pmatrix} x(t) \\\\ y(t) \\end{pmatrix} = \\bf{v} e^{\\lambda t} = \\bf{v}$ That is, the solution is stationary at the point $\\bf{v}$. The point $\\bf{v}$ is called a critical point since $\\bf{\\dot{x}} = 0$ there.\n",
    "### - If $\\lambda > 0$, the trajectory points towards infinity (is repelled from $(0,0)$).\n",
    "### - If $\\lambda < 0$, the trajectory points towards $(0,0)$ (is attracted to $(0,0)$).\n",
    "\n",
    "### Here are the sketches of the trajectories for the three cases:\n",
    "![Sketch](img/diff-eq-sketch.png)\n",
    "\n",
    "### ***Remark***: We can think of the trajectory as the footprint of the solution. It records all points on the $(x,y)$-plane that the solution $(x(t),y(t))$ reaches and in which direction. However, a trajectory does not describe a solution fully. It neither shows at what time each point is reached, nor contains information about speed."
   ]
  },
  {
   "cell_type": "markdown",
   "id": "9b4a08db-3fe6-4526-aba5-71f5fd850849",
   "metadata": {},
   "source": [
    "## Example (Sketching solutions to the overdamped oscillator)\n",
    "\n",
    "### Consider the companion system of an overdamped harmonic oscillator with unit mass:\n",
    "## $$ \\bf{\\dot{x}} = \\bf{A} \\bf{x} $$\n",
    "### where:\n",
    "## $$ \\bf{x} = \\begin{pmatrix} x \\\\ y \\end{pmatrix} $$\n",
    "## $$ \\bf{A} = \\begin{pmatrix} 0 & 1 \\\\ -k & -b \\end{pmatrix} $$\n",
    "## $$ b^2 > 4 k $$\n",
    "### The general solution is:\n",
    "## $$ \\begin{pmatrix} x(t) \\\\ y(t) \\end{pmatrix} = c_1 \\bf{v_1} e^{\\lambda_1 t} + c_2 \\bf{v_2} e^{\\lambda_2 t} $$\n",
    "### where $\\lambda_1, \\lambda_2$ are the eigenvalues of the companion matrix $\\bf{A}$ and $\\bf{v_1}, \\bf{v_2}$ are eigenvectors of $\\lambda_1, \\lambda_2$ respectively.\n",
    "### ***Problem***:\n",
    "### Sketch the trajectories of several solutions on the phase plane.\n",
    "### ***Solution***:\n",
    "### Because the system is overdamped $(b^2 > 4 k)$ both eigenvalues $\\lambda_1$ and $\\lambda_2$ are real and negative. So all solutions approach $0$ as time goes on, regardless of initial conditions. That is, the trajectories of all solutions approach the origin (in the $(x,y)$-plane).\n",
    "### Let us obtain more information on the qualitative behavior of solutions by comparing the two eigenvalues. Let $\\lambda_1 < \\lambda_2$ so that $\\lambda_1$ is the more negative eigenvalue. Denote the corresponding eigenvectors $\\bf{v_1}$ and $\\bf{v_2}$ Recall that for any specific eigenvector $\\bf{v_1}$ any scalar multiple $c\\bf{v_1}$ of it is also an eigenvector; so the set of all possible eigenvectors form a line. We will call such a line an ***eigenline***.\n",
    "### The trajectories on the eigenlines move towards the origin since $l_1, l_2 < 0$ as depicted below:\n",
    "![Sketch](img/diff-eq-sketch-2.png)\n",
    "### For the trajectories that are not along the eigenlines, note that because $\\lambda_1 < \\lambda_2 < 0$:\n",
    "### - When $t \\to \\infty$, $e^{\\lambda_1 t}$ is much smaller than $e^{\\lambda_2 t}$ so the term with $\\bf{v_2} e^{\\lambda_2 t}$ dominates. This means that as trajectories ***approach the origin***, they become tangent to the eigenline corresponding to the larger, less negative, eigenvalue $\\lambda_2$\n",
    "### - When $t \\to -\\infty$, $e^{\\lambda_1 t}$  is much greater than $e^{\\lambda_2 t}$ so the term with $\\bf{v_1} e^{\\lambda_1 t}$ dominates. This means that ***far away from the origin***, trajectories become parallel to the eigenline corresponding to the smaller, more negative, eigenvalue $\\lambda_1$\n",
    "\n",
    "### Here is a sketch of several trajectories:\n",
    "![Sketch](img/diff-eq-sketch-3.png)\n"
   ]
  },
  {
   "cell_type": "code",
   "execution_count": null,
   "id": "39094864-68f0-4577-8ca2-da700fb04b1d",
   "metadata": {},
   "outputs": [],
   "source": []
  }
 ],
 "metadata": {
  "kernelspec": {
   "display_name": "Python 3",
   "language": "python",
   "name": "python3"
  },
  "language_info": {
   "codemirror_mode": {
    "name": "ipython",
    "version": 3
   },
   "file_extension": ".py",
   "mimetype": "text/x-python",
   "name": "python",
   "nbconvert_exporter": "python",
   "pygments_lexer": "ipython3",
   "version": "3.8.8"
  }
 },
 "nbformat": 4,
 "nbformat_minor": 5
}
