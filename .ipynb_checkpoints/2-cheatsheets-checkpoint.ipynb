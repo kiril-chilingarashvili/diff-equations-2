{
 "cells": [
  {
   "cell_type": "markdown",
   "id": "4452e983-1ce9-41dd-99a6-c4fcbee072b1",
   "metadata": {},
   "source": [
    "# Unit 2: The geometry of solutions"
   ]
  },
  {
   "cell_type": "markdown",
   "id": "03d66cbe-36f2-4979-8fa5-b4b7ad6f1daf",
   "metadata": {},
   "source": [
    "## Sketching solutions\n",
    "\n",
    "### Visualizing a solution\n",
    "## $$ \\bf{x} = \\begin{pmatrix} x(t) \\\\ y(t) \\end{pmatrix} $$\n",
    "### to\n",
    "## $$ \\bf{\\dot{x}} = \\bf{A} \\bf{x} $$\n",
    "### for a constant $2 \\times 2$ real matrix $\\bf{A}$\n",
    "\n",
    "### Procedure:\n",
    "### Make two plots, the first showing $x(t)$ as a function of $t$, and the second showing $y(t)$ as a function of $t$.\n",
    "\n",
    "### ***Detailed Procedure***:\n",
    "### Draw the solution as a parametrized curve on the $(x,y)$-plane. In other words, plot the point $(x(t), y(t))$ for every real number $t$ (including negative $t$). The differential equation $ \\bf{\\dot{x}} = \\bf{A} \\bf{x} $ specifies which direction the point $(x(t), y(t))$ will move next (and how fast), in terms of its current position.\n",
    "### ***Warm up***: trajectory of $\\bf{v} e^{\\lambda t}$\n",
    "### Recall that if $\\bf{v}$ is an eigenvector associated to a real eigenvalue $\\lambda$ of a matrix $\\bf{A}$, then $\\bf{v} e^{\\lambda t}$ is a solution to $ \\bf{\\dot{x}} = \\bf{A} \\bf{x} $. Sketch the trajectory of such a solution on the $(x, y)$-plane.\n",
    "\n",
    "### ***Solution***:\n",
    "### Since $\\lambda$ is real, $e^{\\lambda t}>0$ for all $t$. Therefore each point of the solution $\\bf{v} e^{\\lambda t}$ is a positive scalar multiple of $\\bf{v}$. This means the trajectory lies on the ray through the eigenvector $\\bf{v}$ The direction of the trajectory depends on the sign of $\\lambda$ as follow:\n",
    "### - If $\\lambda = 0$, the trajectory is a single point because $\\begin{pmatrix} x(t) \\\\ y(t) \\end{pmatrix} = \\bf{v} e^{\\lambda t} = \\bf{v}$ That is, the solution is stationary at the point $\\bf{v}$. The point $\\bf{v}$ is called a critical point since $\\bf{\\dot{x}} = 0$ there.\n",
    "### - If $\\lambda > 0$, the trajectory points towards infinity (is repelled from $(0,0)$).\n",
    "### - If $\\lambda < 0$, the trajectory points towards $(0,0)$ (is attracted to $(0,0)$).\n",
    "\n",
    "### Here are the sketches of the trajectories for the three cases:\n",
    "![Sketch](img/diff-eq-sketch.png)\n",
    "\n",
    "### ***Remark***: We can think of the trajectory as the footprint of the solution. It records all points on the $(x,y)$-plane that the solution $(x(t),y(t))$ reaches and in which direction. However, a trajectory does not describe a solution fully. It neither shows at what time each point is reached, nor contains information about speed."
   ]
  },
  {
   "cell_type": "markdown",
   "id": "9b4a08db-3fe6-4526-aba5-71f5fd850849",
   "metadata": {},
   "source": [
    "## Example (Sketching solutions to the overdamped oscillator)\n",
    "\n",
    "### Consider the companion system of an overdamped harmonic oscillator with unit mass:\n",
    "## $$ \\bf{\\dot{x}} = \\bf{A} \\bf{x} $$\n",
    "### where:\n",
    "## $$ \\bf{x} = \\begin{pmatrix} x \\\\ y \\end{pmatrix} $$\n",
    "## $$ \\bf{A} = \\begin{pmatrix} 0 & 1 \\\\ -k & -b \\end{pmatrix} $$\n",
    "## $$ b^2 > 4 k $$\n",
    "### The general solution is:\n",
    "## $$ \\begin{pmatrix} x(t) \\\\ y(t) \\end{pmatrix} = c_1 \\bf{v_1} e^{\\lambda_1 t} + c_2 \\bf{v_2} e^{\\lambda_2 t} $$\n",
    "### where $\\lambda_1, \\lambda_2$ are the eigenvalues of the companion matrix $\\bf{A}$ and $\\bf{v_1}, \\bf{v_2}$ are eigenvectors of $\\lambda_1, \\lambda_2$ respectively.\n",
    "### ***Problem***:\n",
    "### Sketch the trajectories of several solutions on the phase plane.\n",
    "### ***Solution***:\n",
    "### Because the system is overdamped $(b^2 > 4 k)$ both eigenvalues $\\lambda_1$ and $\\lambda_2$ are real and negative. So all solutions approach $0$ as time goes on, regardless of initial conditions. That is, the trajectories of all solutions approach the origin (in the $(x,y)$-plane).\n",
    "### Let us obtain more information on the qualitative behavior of solutions by comparing the two eigenvalues. Let $\\lambda_1 < \\lambda_2$ so that $\\lambda_1$ is the more negative eigenvalue. Denote the corresponding eigenvectors $\\bf{v_1}$ and $\\bf{v_2}$ Recall that for any specific eigenvector $\\bf{v_1}$ any scalar multiple $c\\bf{v_1}$ of it is also an eigenvector; so the set of all possible eigenvectors form a line. We will call such a line an ***eigenline***.\n",
    "### The trajectories on the eigenlines move towards the origin since $l_1, l_2 < 0$ as depicted below:\n",
    "![Sketch](img/diff-eq-sketch-2.png)\n",
    "### For the trajectories that are not along the eigenlines, note that because $\\lambda_1 < \\lambda_2 < 0$:\n",
    "### - When $t \\to \\infty$, $e^{\\lambda_1 t}$ is much smaller than $e^{\\lambda_2 t}$ so the term with $\\bf{v_2} e^{\\lambda_2 t}$ dominates. This means that as trajectories ***approach the origin***, they become tangent to the eigenline corresponding to the larger, less negative, eigenvalue $\\lambda_2$\n",
    "### - When $t \\to -\\infty$, $e^{\\lambda_1 t}$  is much greater than $e^{\\lambda_2 t}$ so the term with $\\bf{v_1} e^{\\lambda_1 t}$ dominates. This means that ***far away from the origin***, trajectories become parallel to the eigenline corresponding to the smaller, more negative, eigenvalue $\\lambda_1$\n",
    "\n",
    "### Here is a sketch of several trajectories:\n",
    "![Sketch](img/diff-eq-sketch-3.png)\n"
   ]
  },
  {
   "cell_type": "markdown",
   "id": "b7ecfe66-acd7-4347-9301-f6ae19cc0832",
   "metadata": {},
   "source": [
    "## Phase Portraits\n",
    "### The $(x, y)$-plane on which we sketch the trajectories of solutions is known as the ***phase plane***. The terminology comes from the fact that for companion systems, the $(x, y)$-plane is the $(x, \\dot{x})$-plane, which is known as the phase plane in physics.\n",
    "### A ***phase portrait*** of a system of DEs is a diagram consisting of the trajectories of **all*** solutions to the system in the phase plane.\n",
    "### Suppose that the eigenvalues $\\lambda_1$, $\\lambda_2$ are ***real and distinct, and have the same sign***.\n",
    "### Let $\\bf{v_1}, \\bf{v_2}$ be corresponding eigenvectors.\n",
    "### Since, $\\lambda_1 \\neq \\lambda_2$ the general solution is:\n",
    "## $$ c_1 \\bf{v_1} e^{\\lambda_1 t} + c_2 \\bf{v_2} e^{\\lambda_2 t} \\quad (\\lambda_1 \\in \\mathbb{R} \\neq \\lambda_2 \\in \\mathbb{R}) $$\n",
    "\n",
    "### Because $\\lambda_1$, $\\lambda_2$ have the same sign, there are $2$ types of phase portraits, corresponding to whether the eigenvalues are both negative or both positive. The behavior of these phase portraits will depend on which eigenvalue is bigger.\n",
    "\n",
    "### 1. ***Sink node*** (or ***Nodal sink*** or ***Attracting node***): Eigenvalues are ***both negative, $\\lambda_1, \\lambda2 < 0$***\n",
    "![Phase](img/phase-1.png)\n",
    "### All nonzero trajectories flow from infinity towards $(0, 0)$. Trajectories not contained in the eigenlines become:\n",
    "### - parallel to the (black) eigenline corresponding to the smaller (more negative) eigenvalue far from $(0, 0)$,\n",
    "### - tangent to the (blue) eigenline corresponding to the larger (less negative) eigenvalue near $(0, 0)$.\n",
    "### Example of a solution: \n",
    "## $$ \\bf{x} = e^{-2 t} \\begin{pmatrix} 1 \\\\ 1 \\end{pmatrix} + e^{-5 t}\\begin{pmatrix} -1 \\\\ 1 \\end{pmatrix} $$\n",
    "\n",
    "### 2. ***Source node*** (or ***Nodal source*** or ***Repelling node***): ***Eigenvalues are both positive***, $\\lambda_1, \\lambda_2 > 0$.\n",
    "![Phase](img/phase-2.png)\n",
    "### All nonzero trajectories flow from $(0, 0)$ towards infinity. Trajectories not contained in the eigenlines become:\n",
    "### - tangent to the (blue) eigenline corresponding to the smaller eigenvalue near $(0, 0)$.\n",
    "### - parallel to the (black) eigenline corresponding to the larger eigenvalue far from $(0, 0)$.\n",
    "\n",
    "### Example of a solution: \n",
    "## $$ \\bf{x} = e^{2 t} \\begin{pmatrix} 1 \\\\ 1 \\end{pmatrix} + e^{5 t} \\begin{pmatrix} -1 \\\\ 1 \\end{pmatrix} $$\n",
    "\n",
    "### 3. ***Saddle***: Eigenvalues have ***opposite signs***, say $\\lambda_1 > 0, \\lambda_2 < 0$.\n",
    "![Phase](img/phase-3.png)\n",
    "### Trajectories flow:\n",
    "### - outward along the positive eigenline,\n",
    "### - inward along the negative eigenline.\n",
    "### Other trajectories are asymptotic to both eigenlines, tending to infinity ***towards the positive eigenline***.\n",
    "### Example of a solution:  \n",
    "## $$ \\bf{x} = e^{2 t} \\begin{pmatrix} 1 \\\\ 1 \\end{pmatrix} + e^{-3 t} \\begin{pmatrix} -1 \\\\ 1 \\end{pmatrix} $$\n",
    "### When $t = + 1000$, this is approximately a large positive multiple of $\\begin{pmatrix} 1 \\\\ 1 \\end{pmatrix}$. When $t = - 1000$, this is approximately a large positive multiple of $\\begin{pmatrix} -1 \\\\ 1 \\end{pmatrix}$.\n",
    "\n"
   ]
  },
  {
   "cell_type": "markdown",
   "id": "72da2743-739f-404a-bb02-d02963f73c75",
   "metadata": {},
   "source": [
    "## Complex eigenvalues\n",
    "\n",
    "### When the coefficient matrix $\\bf{A}$ of the system $\\bf{\\dot{x}} = \\bf{A} \\bf{x}$ has complex eigenvalues, we will need to perform an extra step to extract the real solutions, similar to what we did for single second order ODEs with complex characteristic roots.\n",
    "\n",
    "### Recall again the companion system of a damped oscillator with unit mass\n",
    "## $$ \\frac{d}{dt} \\begin{pmatrix} x \\\\ y \\end{pmatrix} = \\begin{pmatrix} 0 & 1 \\\\ -k & -b \\end{pmatrix} \\begin{pmatrix} x \\\\ y \\end{pmatrix} \\quad \\quad (y = \\dot{x})  $$\n",
    "\n",
    "### We will now consider the case when the oscillator is ***underdamped*** $(b^2 - 4 k < 0)$ and the eigenvalues are ***complex***. We will start with the undamped case, that is, $b = 0$.\n",
    "### ***Simple harmonic oscillator: $b = 0$***\n",
    "### In the case when an oscillator is undamped $(b=0)$ the characteristic polynomial is\n",
    "## $$ \\det (\\bf{A} - \\lambda \\bf{I}) = \\begin{vmatrix} -\\lambda & 1 \\\\ -k & -\\lambda \\end{vmatrix} = \\lambda^2 + k $$\n",
    "### so the eigenvalues are purely imaginary:\n",
    "## $$ \\lambda_1 = i \\omega, \\qquad \\lambda_2 = -i \\omega \\qquad \\text{where} \\, \\omega = \\sqrt{k} $$\n",
    "\n",
    "### The ***complex conjugate*** of a complex number is the number with an equal real part and an imaginary part equal in magnitude but opposite in sign. That is, if $a$ and $b$ are real, then the complex conjugate of $a + b i$ is equal to $a - b i$. The complex conjugate of $z$ is often denoted as $\\overline{z}$\n",
    "\n",
    "\n",
    "### The eigenvalues are complex conjugates of one another $(\\lambda_1 = \\overline{\\lambda_2})$ because they are the roots of a quadratic polynomial. Because this is a companion system, the corresponding eigenvectors are:\n",
    "## $$ \\bf{v_1} = \\begin{pmatrix} 1 \\\\ i \\omega \\end{pmatrix}, \\qquad \\bf{v_2} = \\begin{pmatrix} 1 \\\\ -i \\omega \\end{pmatrix} $$\n",
    "### which are again complex conjugates of one another. These then yield a pair of exponential solutions \n",
    "## $$ \\begin{pmatrix} 1 \\\\ i \\omega \\end{pmatrix} e^{i \\omega t} $$ \n",
    "### and  \n",
    "## $$ \\begin{pmatrix} 1 \\\\ - i \\omega \\end{pmatrix} e^{- i \\omega t} $$\n",
    "### which are also complex conjugates of one another.\n",
    "### The general solution to the system is:\n",
    "## $$ \\begin{pmatrix} x \\\\ y \\end{pmatrix} = c_1 \\begin{pmatrix} 1 \\\\ i \\omega \\end{pmatrix} e^{i \\omega t} + c_2 \\begin{pmatrix} 1 \\\\ -i \\omega t \\end{pmatrix} e^{-i\\omega t} $$\n",
    "### This general solution is complex. Physical quantities are real valued functions and so we are interested in the real solutions to this system. These will give the position and velocity of the oscillating mass.\n",
    "\n",
    "### ***Question***: What are the real solutions to this system?\n",
    "### ***Solution***:\n",
    "### A real solution to the system is any linear combination of the real and imaginary parts of the exponential solution \n",
    "## $$ \\begin{pmatrix} 1 \\\\ i \\omega \\end{pmatrix} e^{i \\omega t} $$\n",
    "### To find the real and imaginary parts, we use Euler's formula\n",
    "## $$ e^{i \\omega t} = \\cos(\\omega t) + i \\sin(\\omega t) $$\n",
    "### and decompose the exponential solution into its real and imaginary parts:\n",
    "## $$ \\begin{pmatrix} 1 \\\\ i \\omega \\end{pmatrix} e^{i \\omega t} = \\begin{pmatrix} 1 \\\\ i \\omega \\end{pmatrix} \\left(\\cos(\\omega t) + i \\sin(\\omega t)\\right) $$\n",
    "## $$ \\begin{pmatrix} \\cos(\\omega t) \\\\ - \\omega \\sin(\\omega t) \\end{pmatrix} + i \\begin{pmatrix} \\sin(\\omega t) \\\\ \\omega \\cos(\\omega t) \\end{pmatrix} $$\n",
    "### The general real solution is the family of all linear combinations of the real and imaginary parts of $\\begin{pmatrix} 1 \\\\ i \\omega \\end{pmatrix} e^{i \\omega t}$ with real coefficients:\n",
    "## $$ \\bf{x}(t) = C_1 \\operatorname{Re\\, } \\left[ \\begin{pmatrix} 1 \\\\ i \\omega \\end{pmatrix} e^{i \\omega t} \\right] + C_2 \\operatorname{Im\\, } \\left[ \\begin{pmatrix} 1 \\\\ i \\omega \\end{pmatrix} e^{i \\omega t} \\right] $$\n",
    "## $$ = C_1 \\begin{pmatrix} \\cos(\\omega t) \\\\ -\\omega \\sin(\\omega t) \\end{pmatrix} + C_2 \\begin{pmatrix} \\sin(\\omega t) \\\\ \\omega \\cos(\\omega t) \\end{pmatrix}, \\qquad (C_1, C_2 \\, \\text{real}) $$\n",
    "\n",
    "### We could have equivalently taken the real and imaginary parts of the other exponential solution \n",
    "## $$ e^{-i \\omega t} \\begin{pmatrix} 1 \\\\ -i \\omega \\end{pmatrix} $$\n",
    "### since it is the complex conjugate of the exponential solution \n",
    "## $$ e^{i \\omega t} \\begin{pmatrix} 1 \\\\ i \\omega \\end{pmatrix} $$\n",
    "### used above."
   ]
  },
  {
   "cell_type": "markdown",
   "id": "16421832-a448-46b0-a4ed-469b5fcd027d",
   "metadata": {},
   "source": [
    "### ***Question*** What do the trajectories of the real solutions look like on the phase plane?\n",
    "### ***Solution***\n",
    "### Consider the special case with $C_1 = 1, C_2 = 0$:\n",
    "## $$ \\bf{x}(t) = \\begin{pmatrix} \\cos(\\omega t) \\\\ - \\omega \\sin(\\omega t) \\end{pmatrix} $$\n",
    "### This is very similar to the parametrization \n",
    "## $$ \\begin{pmatrix} \\cos(\\omega t) \\\\ sin(\\omega t) \\end{pmatrix} $$\n",
    "### of a circle centered at the origin, except with the $x$- and $y$- axes stretched by different amounts. Therefore, the trajectory of this solution is an ellipse centered at the origin. The ***period*** of the trajectory, the time it takes to trace out one complete ellipse, is $\\frac{2 \\pi}{\\omega}$ \n",
    "### Another way to see that $\\bf{x}(t)$ parametrizes an ellipse is that the two components of \n",
    "## $$ \\bf{x}(t) = \\begin{pmatrix}  x(t) \\\\ y(t) \\end{pmatrix} = \\begin{pmatrix} \\cos(\\omega t) \\\\ -\\omega \\sin(\\omega t) \\end{pmatrix}  $$\n",
    "### satisfy the equation\n",
    "## $$ x(t) ^ 2 + {\\left(\\frac{y(t)}{\\omega} \\right)}^2 = 1, \\qquad \\text{for all}\\, t  $$\n",
    "### The trajectories of all other real solutions are also ellipses centered at the origins with the same period $\\frac{2 \\pi}{\\omega}$.\n"
   ]
  },
  {
   "cell_type": "markdown",
   "id": "efc78a90-fc99-449d-99a2-1cf25b27044a",
   "metadata": {},
   "source": [
    "### ***Question***: How do we see that the other trajectories are also ellipses\n",
    "\n",
    "### One way to see this is by rewriting each component of the general real solution in ***amplitude-phase form***\n",
    "## $$ \\bf{x}(t) = c_1 \\begin{pmatrix} \\cos(\\omega t) \\\\ -\\omega \\sin(\\omega t) \\end{pmatrix}  + c_2 \\begin{pmatrix}  \\sin(\\omega t) \\\\ \\omega \\cos(\\omega t) \\end{pmatrix} $$\n",
    "## $$ = \\begin{pmatrix} c_1 \\cos(\\omega t) + c_2 \\sin(\\omega t) \\\\ \\omega (-c_1 \\sin(\\omega t) + c_2 \\cos(\\omega t)) \\end{pmatrix} $$\n",
    "## $$ = \\begin{pmatrix}  A \\cos(\\omega t - \\phi) \\\\ -\\omega A \\sin(\\omega t - \\phi) \\end{pmatrix} $$\n",
    "### where the real numbers $A$ and $\\phi$ are the amplitude and phase lag of the sinusoid $c_1 \\cos(\\omega t) + c_2 \\sin(\\omega t)$ Note that the second component of $\\bf{x}(t)$ is the derivative of the first component since $y = \\dot(x)$. The trajectory of $\\bf{x}(t)$ is an ellipse centered at the origin. The amplitude $A$ and angular frequency $\\omega$ scales the size of the ellipse, the angular frequency $\\omega$ determines how much the ellipse differs from the circle, and the phase lag $\\phi$ determines the location of the point $\\bf{x}(0)$ on the ellipse.\n",
    "### Here is the phase portrait of this system when the spring constant $k = 2$:\n",
    "![Phase portrait](img/phase-4.png)"
   ]
  },
  {
   "cell_type": "markdown",
   "id": "6c75e35d-e602-4e69-a62a-f53a8cf8bf2d",
   "metadata": {},
   "source": [
    "## Phase portraits: centers\n",
    "\n",
    "### Suppose that the eigenvalues $\\lambda, \\overline{\\lambda}$ are ***complex and purely imaginary***, so that $\\lambda = i \\omega$ and $\\overline{\\lambda} = -i \\omega$ where $\\omega$ is a real number. \n",
    "### Let \n",
    "## $$ \\bf{v} = \\begin{pmatrix} a_1 \\\\ a_2 \\end{pmatrix} + i \\begin{pmatrix} b_1 \\\\ b_2 \\end{pmatrix} $$\n",
    "### be the eigenvector of $\\lambda = i \\omega$ and $\\bf{\\overline{v}}$ be the eigenvector of $\\overline{\\lambda}$.\n",
    "### The general ***real*** solution is:\n"
   ]
  },
  {
   "cell_type": "markdown",
   "id": "a2c083e9-cf1b-4562-8bfd-ccc8dd523137",
   "metadata": {},
   "source": [
    "## $$ C_1 \\operatorname{Re\\, } (\\bf{v} e^{\\lambda t}) + C_2 \\operatorname{Im\\, } (\\bf{v} e^{\\lambda t}) $$\n",
    "## $$ = C_1 \\left[ \\begin{pmatrix} a_1 \\\\ a_2 \\end{pmatrix} \\cos(\\omega t) - \\begin{pmatrix} b_1 \\\\ b_2 \\end{pmatrix} \\sin(\\omega t) \\right] + C_2 \\left[ \\begin{pmatrix} a_1 \\\\ a_2 \\end{pmatrix} \\sin(\\omega t) + \\begin{pmatrix} b_1 \\\\ b_2 \\end{pmatrix} \\cos(\\omega t) \\right] $$\n",
    "## $$ (a_1, a_2, b_1, b_2, C_1, C_2 \\quad \\text{real}) $$"
   ]
  },
  {
   "cell_type": "markdown",
   "id": "a4e87f28-68d2-4038-a8b9-6fac2b558c54",
   "metadata": {},
   "source": [
    "### The phase portrait is a center"
   ]
  },
  {
   "cell_type": "markdown",
   "id": "fc0ca02e-adb7-4159-b824-419a5b15c1a4",
   "metadata": {},
   "source": [
    "### ***Center***: Eigenvalues are ***complex and have zero real part*** $\\lambda = i \\omega$, $\\overline{\\lambda} = -i \\omega$ for some real number $\\omega$\n",
    "### The nonzero trajectories are concentric ellipses.\n",
    "### Solutions are periodic with period $\\frac{2 \\pi}{\\omega}$ The number $\\omega$ is the angular frequency.\n",
    "### Example solution:  \n",
    "## $$ \\bf{x} = \\operatorname{Re\\, } \\left[ e^{i t} \\begin{pmatrix} 2 \\\\ -i \\end{pmatrix} \\right] = \\begin{pmatrix} 2 \\cos(t) \\\\ \\sin(t) \\end{pmatrix} $$\n",
    "### a parametrization of a wide and short ellipse.\n",
    "![Phase](img/phase-5.png)"
   ]
  },
  {
   "cell_type": "markdown",
   "id": "788a67e6-bc86-476a-8cc4-e758b849d80d",
   "metadata": {},
   "source": [
    "## Complex eigenvalues with nonzero real part\n",
    "\n",
    "### Recall again the companion system with $y = \\dot{x}$ of a damped oscillator with unit mass:\n",
    "## $$ \\frac{d}{dt} \\begin{pmatrix} x \\\\ y \\end{pmatrix}  = \\begin{pmatrix} 0 & 1 \\\\ -k & -b \\end{pmatrix} \\begin{pmatrix} x \\\\ y \\end{pmatrix}  $$\n",
    "### where $k$, $b$ are the spring and damping constants respectively\n",
    "### We now consider the case when the oscillator is ***underdamped*** $(b^2 - 4k < 0)$ and damping is nonzero $b>0$ We will see that the eigenvalues are ***complex with nonzero real part*** and will need to extract the real solutions from the general complex solution.\n",
    "### ***Underdamped harmonic oscillator***: $(b^2 - 4k < 0)$\n",
    "### The eigenvalues of \n",
    "## $$\\begin{pmatrix} 0 & 1 \\\\ -k & -b \\end{pmatrix}$$\n",
    "### are \n",
    "## $$\\frac{-b\\pm\\sqrt{b^2-4k}}{2}$$\n",
    "### When discriminant $b^2 - 4k < 0$, these are complex:\n",
    "## $$ \\lambda = -r \\pm i \\omega \\, \\text{where} \\, r = \\frac{b}{2}, \\, \\omega=\\frac{\\sqrt{4k-b^2}}{2}\\, \\text{are real} $$\n",
    "### They are complex conjugates of each other. \n",
    "### Because this is a companion system, an eigenvector corresponding to the eigenvalue $\\lambda$ is $\\bf{v} = \\begin{pmatrix} 1 \\\\ \\lambda \\end{pmatrix}$, giving the exponential solution\n",
    "## $$ \\bf{v} e^{\\lambda t} = \\begin{pmatrix} 1 \\\\ \\lambda \\end{pmatrix} e^{\\lambda t} = \\begin{pmatrix} 1 \\\\ -r + i \\omega \\end{pmatrix} e^{(-r + i \\omega) t}, \\qquad (r, \\omega > 0) $$\n",
    "### the other exponential solution is its complex conjugate. \n",
    "### Let us now find the real and imaginary parts of the exponential solution,\n",
    "### Euler's formula\n",
    "## $$ e^{(-r + i \\omega) t} = e^{-rt}e^{i \\omega t} = e^{-rt}\\left[ \\cos(\\omega t) + i \\sin(\\omega t) \\right] $$\n",
    "### gives\n",
    "## $$ \\begin{pmatrix} 1 \\\\ -r + \\omega t \\end{pmatrix} e^{(-rt+i \\omega)t} = \\begin{pmatrix} 1 \\\\ -r + i \\omega \\end{pmatrix} \\left( e^{-rt}\\left[\\cos(\\omega t) +i \\sin(\\omega t) \\right] \\right) $$\n",
    "## $$ = \\left[ \\begin{pmatrix} \\cos(\\omega t) \\\\ -r \\cos(\\omega t) - \\omega \\sin(\\omega t) \\end{pmatrix}  + i \\begin{pmatrix} \\sin(\\omega t) \\\\ -r \\sin(\\omega t) + \\omega \\cos(\\omega t) \\end{pmatrix}  \\right] e^{-rt} $$\n",
    "### The general real solution is the family of all linear combinations of the real and imaginary part of the exponential solution with real coefficients:\n",
    "## $$ \\bf{t} = C_1 \\operatorname{Re\\, } \\left( \\bf{v} e^{\\lambda t} \\right) + C_2 \\operatorname{Im\\, } \\left( \\bf{v} e^{\\lambda t} \\right) $$\n",
    "## $$ = C_1 \\begin{pmatrix} \\cos(\\omega t) \\\\ -r \\cos(\\omega t) - \\omega \\sin(\\omega t) \\end{pmatrix} e^{-rt} + C_2 \\begin{pmatrix} \\sin(\\omega t) \\\\ -r \\cos(\\omega t) - \\omega \\cos(\\omega t) \\end{pmatrix} e^{-r t} $$\n",
    "### where $C_1$, $C_2$ are arbitrary constants s."
   ]
  },
  {
   "cell_type": "markdown",
   "id": "5711ffe5-82ca-4c99-aad6-d16645fc166a",
   "metadata": {},
   "source": [
    "### ***Question***\n",
    "### What do trajectories of the real solutions look like?\n",
    "### ***Solution***\n",
    "### Consider the special case when\n",
    "## $$ C_1 = 1, C_2 = 0 $$\n",
    "### Then:\n",
    "## $$ \\bf{x}(t) = \\begin{pmatrix} \\cos(\\omega t) \\\\ -r \\cos(\\omega t) - \\omega \\sin(\\omega t) \\end{pmatrix} e^{-r t} $$\n",
    "\n",
    "### if $r$ were zero, then the eigenvalues would be purely imaginary and this would recover the case of the undamped oscillator, and parametrize an ellipse. For $r>0$, the factor $e^{-rt}$ is decreasing as $t$ increase, shrinking the ellipse as $t$ increases. Therefore, the trajectory is a spiral towards the origin.\n",
    "### Here is an example of a trajectory when $k=2,b=1$:\n",
    "![Phase](img/phase-6.png)\n"
   ]
  },
  {
   "cell_type": "markdown",
   "id": "fbddf225-6a9e-4103-a981-7e1e411813bb",
   "metadata": {},
   "source": [
    "## Phase portraits of systems with complex eigenvalues\n",
    "### Suppose that the eigenvalues $\\lambda = s + i \\omega$, $\\overline{\\lambda} = s - i \\omega$ are ***complex with nonzero real and imaginary parts***.\n",
    "### Let \n",
    "## $$ \\bf{v} = \\begin{pmatrix} a_1 \\\\ a_2 \\end{pmatrix} + i \\begin{pmatrix} b_1 \\\\ b_2 \\end{pmatrix} $$\n",
    "### be eigenvector of $\\lambda = s + i \\omega$, and $\\overline{\\bf{v}}$ be the eigenvector of $\\overline{\\lambda}$\n",
    "### The general ***real*** solution is of the form\n",
    "## $$ \\bf{x}(t) = C_1 \\operatorname{Re\\, } (\\bf{v} e^{\\lambda t}) + C_2 \\operatorname{Im\\, }(\\bf{v} e^{\\lambda t}) $$\n",
    "## $$ = C_1 \\left[ \\begin{pmatrix} a_1 \\\\ a_2 \\end{pmatrix} \\cos(\\omega t) - \\begin{pmatrix} b_1 \\\\ b_2 \\end{pmatrix} \\sin(\\omega t) \\right] e^{st} + C_1 \\left[ \\begin{pmatrix} a_1 \\\\ a_2 \\end{pmatrix} \\sin(\\omega t) + \\begin{pmatrix} b_1 \\\\ b_2 \\end{pmatrix} \\cos(\\omega t) \\right] e^{st} $$\n",
    "## $$ (s, \\omega, a_1, a_2, b_1, b_2, C_1, C_2 \\quad \\text{real}) $$\n",
    "### Depending on whether the real part $s$ of the eigenvalue is positive or negative, the phase portrait is either a spiral source or spiral sink.\n",
    "### The number $s$ controls repulsion/attraction, while $\\omega$ controls rotation (angular frequency).\n",
    "\n"
   ]
  },
  {
   "cell_type": "markdown",
   "id": "71a174e9-29c4-45d4-8d7a-80bba0568df4",
   "metadata": {},
   "source": [
    "### ***1.*** Spiral source (or repelling spiral):\n",
    "### Eigenvalues are complex and have positive real part, $\\lambda,\\overline{\\lambda}=s\\pm\\omega i,\\,s>0$.\n",
    "### All nonzero trajectories spiral outward.\n",
    "### Example solution:\n",
    "## $$ \\bf{x} = \\operatorname{Re\\, } \\left[ \\begin{pmatrix} 2 \\\\ i \\end{pmatrix} e^{(1+3i)t} \\right] = \\begin{pmatrix} 2 \\cos(3t) \\\\ \\sin(3t) \\end{pmatrix} e^t $$\n",
    "![Phase](img/phase-7.png)"
   ]
  },
  {
   "cell_type": "markdown",
   "id": "3b683bf7-1ba9-492e-af43-22b18a166b0b",
   "metadata": {},
   "source": [
    "### ***2.*** Spiral sink (or attracting spiral):\n",
    "### Eigenvalues are complex and have ***negative real part***, $\\lambda, \\overline{\\lambda} = s \\pm \\omega i, \\, s<0$\n",
    "### All nonzero trajectories spiral inward.\n",
    "### Example solution:\n",
    "## $$ \\bf{x} = \\operatorname{Re\\, } \\left[ \\begin{pmatrix} 2 \\\\ -i \\end{pmatrix} e^{(-1+3i)t} \\right] = \\begin{pmatrix} 2 \\cos(3t) \\\\ \\sin(3t) \\end{pmatrix} e^{-t} $$\n",
    "![Phase](img/phase-8.png)"
   ]
  },
  {
   "cell_type": "markdown",
   "id": "5252ac45-c040-42d5-9e17-282b8b6dff3f",
   "metadata": {},
   "source": [
    "### ***Question***\n",
    "### Do the trajectories go clockwise or counterclockwise?\n",
    "### ***Answer***\n",
    "### It is complicated to see this in terms of eigenvalues and eigenvectors, but easy to see by testing a single velocity vector!\n",
    "### At each point $\\bf{x}$ on the phase plane, the direction of the trajectory is given by the velocity ector $\\bf{\\dot{x}}$.\n",
    "### For example, at the point\n",
    "## $$ \\bf{x} = \\begin{pmatrix} 1 \\\\ 0 \\end{pmatrix} $$\n",
    "### then\n",
    "## $$ \\bf{\\dot{x}} = \\bf{A}\\bf{x} = \\bf{A}\\begin{pmatrix} 1 \\\\ 0 \\end{pmatrix} $$\n",
    "![Phase](img/phase-9.png)\n",
    "\n",
    "### The trajectory goes upward at the point $\\bf{x} = \\begin{pmatrix} 1 \\\\ 0 \\end{pmatrix} $ and is counterclockwise ***if and only if*** the $y$-coordinate of $\\bf{\\dot{x}}$ there is positive\n",
    "### The direction is the same for all trajectories"
   ]
  },
  {
   "cell_type": "markdown",
   "id": "bf25aa1d-cc50-4798-b172-97cbea3d4cd8",
   "metadata": {},
   "source": [
    "## Time Reversal in Linear Systems\n",
    "### Let $\\bf{x}$ be a solution of the 2-dimensional linear system\n",
    "## $$ \\bf{x}' = \\bf{A} \\bf{x} $$\n",
    "### Then the function $\\tilde{\\bf{x}}'(t) = \\bf{x}(-t)$ is a solution  of the system\n",
    "## $$ \\tilde{\\bf{x}}' = -\\bf{A} \\bf{x} $$"
   ]
  },
  {
   "cell_type": "markdown",
   "id": "a18400bb-d1dd-4c17-9947-47c87fcf5218",
   "metadata": {},
   "source": [
    "## Euler's Formula :\n",
    "\n",
    "## $$ e^{i \\theta} = \\cos(\\theta) + i \\sin(\\theta) $$"
   ]
  },
  {
   "cell_type": "markdown",
   "id": "035fa687-1a27-415d-805b-ca2b810344f5",
   "metadata": {},
   "source": [
    "## Exponential law\n",
    "\n",
    "## $$ e^{i t_1} e^{i t_2} = e^{i(t_1 + t_2)} $$"
   ]
  },
  {
   "cell_type": "markdown",
   "id": "a7657e52-17b7-40a0-bb80-650cc31dedfa",
   "metadata": {},
   "source": [
    "## Initial value problem:\n",
    "\n",
    "## $$ \\frac{d}{dt} e^{i t} = i e^{i t}, \\, e^{i 0} = 1 $$\n"
   ]
  },
  {
   "cell_type": "markdown",
   "id": "31c1d8f9-96a3-4460-af26-9046fbf4a02c",
   "metadata": {},
   "source": [
    "## Taylor's formula:\n",
    "\n",
    "## $$ e^{i t} = \\sum_{n = 0}^{\\infty} \\frac{(i t)^n}{n!} $$"
   ]
  },
  {
   "cell_type": "markdown",
   "id": "55fcd71c-7234-4bbc-b953-5ace6f26e6d3",
   "metadata": {},
   "source": [
    "## Steps to sketch a phase portrait of $\\bf{\\dot{x}} = \\bf{A} \\bf{x}$ (in most cases):\n",
    "\n",
    "### ***1.*** Find the eigenvalues of $\\bf{A}$\n",
    "### ***2.*** If the eigenvalues are ***distinct real*** numbers and are ***nonzero***, find and draw the two eigenlines, and indicate the direction of motion along each (repelling/attracting according to eigenvalue being +/-).\n",
    "### - If opposite sign, ***saddle***. Other trajectories are asymptotic to both eigenlines, in the direction matching that of the nearby eigenline.\n",
    "### - If same sign, then ***nodal source/sink***, also known as ***repelling/attracting node***. Other trajectories are tangent to the eigenline corresponding to the eigenvalue with smaller absolute value at $(0, 0)$.\n",
    "### ***3.*** If eigenvalues are ***complex***, say $s \\pm i \\omega$, check the sign of $s$:\n",
    "### - +, ***spiral source***, also known as ***repelling spiral***.\n",
    "### - -, ***spiral sink***, also known as ***attracting spiral***.\n",
    "### - 0, ***center***."
   ]
  },
  {
   "cell_type": "markdown",
   "id": "9a0172c3-fdb2-410d-9e40-aa15729c3992",
   "metadata": {},
   "source": [
    "## Conservation of Energy in the Harmonic Oscillator\n",
    "\n",
    "### We have found the phase portrait of the undamped harmonic oscillator by solving its companion system. But there is another way to obtain the shape of the trajectories by considering the energy.\n",
    "\n",
    "## Total Energy\n",
    "### Consider the harmonic oscillator described by $m \\ddot{x} + k x = 0$. The total energy of the mass is the sum of its kinetic energy (KE) and potential energy (PE).\n",
    "\n",
    "### The kinetic energy is \n",
    "## $$\\bf{\\operatorname{KE}} = \\frac{m\\dot{x}^2}{2}$$\n",
    "### The potential energy $\\bf{\\operatorname{PE}}$ is a function of $x$, and obtained by integrating the force along the path of the oscilating mass:\n",
    "## $$ \\underbrace{\\bf{\\operatorname{PE}}(x) - \\bf{\\operatorname{PE}}(0)}_{\\text{change in }\\,\\bf{\\operatorname{PE}}} = - \\underbrace{\\int_{0}^{x} F_{\\text{spring}}(X) dX}_{\\text{work done by }\\,F_{\\text{spring}}} = - \\int_{0}^{x} -k X dX = \\frac{kx^2}{2} $$\n",
    "\n",
    "### If we declare $\\bf{\\operatorname{PE}} = 0$ at position $0$, then $\\bf{\\operatorname{PE}}(x) = \\frac{k x^2}{2}$.\n",
    "### Therefore, the total energy of the mass is:\n",
    "## $$ \\bf{\\operatorname{E}} = \\bf{\\operatorname{KE}} + \\bf{\\operatorname{PE}} = \\frac{m \\dot{x}^2}{2} + \\frac{k x^2}{2} $$"
   ]
  },
  {
   "cell_type": "markdown",
   "id": "db55bf6f-db41-4b26-80dd-76c7b1a51440",
   "metadata": {},
   "source": [
    "## Conservation of energy\n",
    "\n",
    "### How does total energy change with time? Let us find the time derivative $\\dot{E}$ of the total energy of the mass.\n",
    "## $$ \\dot{E} = m \\dot{x} \\ddot{x} + k x \\dot{x} $$\n",
    "## $$ = \\dot{x}(m \\ddot{x} + k x) $$\n",
    "## $$ = 0 $$\n",
    "### since\n",
    "## $$ m \\ddot{x} + k x = 0 $$\n",
    "### Therefore, the total energy of the mass in a simple harmonic oscillator is conserved."
   ]
  },
  {
   "cell_type": "markdown",
   "id": "79a30915-02a6-440a-bb08-4fb472439146",
   "metadata": {},
   "source": [
    "## Equation of ellipse from energy conservation\n",
    "### Rewrite the energy equation\n",
    "## $$ E = \\frac{m\\dot{x}^2}{2} + \\frac{k x^2}{2} $$\n",
    "### by letting $y = \\dot{x}$ and rearranging:\n",
    "## $$ \\frac{x^2}{2E/k}+\\frac{y^2}{2E/m} = 1 $$\n",
    "### Since energy is conserved, that is, $E$ is constant, the equation above gives the trajectory of $\\begin{pmatrix} x \\\\ y \\end{pmatrix}$ as an ellipse with semi-axes $\\sqrt{2E/k}$ and $\\sqrt{2E/m}$:\n",
    "![Axes](img/axes.png)\n",
    "\n",
    "### Remark\n",
    "### Suppose we start the mass to the right of equilibrium, and then let go. Then, at $t=0$ we have $x>0$ and $\\dot{x}=0$ corresponding to the orange point above. At the first time the mass crosses equilibrium, $x=0$ and it has negative velocity, $\\dot{x}<0$ This corresponds to the black point above. When the mass reaches its leftmost point, $x<0$ and $\\dot{x}=0$ again."
   ]
  },
  {
   "cell_type": "markdown",
   "id": "21ffdcd9-a224-4259-83f9-be7a60e2cd09",
   "metadata": {},
   "source": [
    "### Initial conditions\n",
    "\n",
    "### Changing the initial conditions changes the value of $E$, which changes the size of the ellipse. The family of all such trajectories is a nested family of ellipses, forming the phase portrait of the system which is a center:\n",
    "![Initial Conditions](img/initial.png)"
   ]
  },
  {
   "cell_type": "markdown",
   "id": "42e98c01-b4e6-4bff-8786-8dc37a664e94",
   "metadata": {},
   "source": [
    "## Trace and determinant\n",
    "\n",
    "### Definition\n",
    "### The ***trace*** of asquare matrix  $\\bf{A}$ is the sum of the entries along the main diagonal.\n",
    "### It is denoted ***$\\operatorname{tr}(\\bf{A})$***\n",
    "\n",
    "### Properties of trace and determinant:\n",
    "## $$ \\operatorname{tr}(-\\bf{A}) = -\\operatorname{tr}(\\bf{A}) $$\n",
    "## $$ \\det(-\\bf{A}) = \\det(\\bf{A}) $$\n",
    "## $$ \\text{Let}\\, \\bf{A}, \\bf{B} \\, \\text{be}\\, 2\\times 2 \\, \\text{matrices:}\\,\\operatorname{ tr}(\\bf{A}\\bf{B}) \\neq (\\operatorname{ tr}(\\bf{A}))(\\operatorname{ tr}(\\bf{B}))  $$\n",
    "## $$ \\text{Let}\\, \\bf{A}, \\bf{B} \\, \\text{be}\\, 2\\times 2 \\, \\text{matrices:}\\,\\operatorname{ det}(\\bf{A}\\bf{B}) = (\\operatorname{ det}(\\bf{A}))(\\operatorname{ det}(\\bf{B}))  $$"
   ]
  },
  {
   "cell_type": "markdown",
   "id": "9cb8f419-0277-4475-a228-88e93cd20ae9",
   "metadata": {},
   "source": [
    "## Introduction to the trace determinant plane\n",
    "\n",
    "### The large collection of $2\\times 2$ homogeneous first order systems with constant coefficients, $\\bf{dot{x}} = \\bf{A}\\bf{x}$,  is parametrized by the four entries in the matrix $\\bf{A}$. Two particular combinations of these four parameters, namely the ***trace*** and the ***determinant***, determine much of the qualitative behavior of such systems. This is because the possible types of phase portraits are determined by the eigenvalues of $\\bf{A}$ which in turn are determined by the characteristic polynomial\n",
    "## $$ \\det(\\bf{A} - \\lambda \\bf{I}) = \\lambda^2 - \\operatorname{ tr}(\\bf{A}) \\lambda + \\det(\\bf{A}) $$\n",
    "\n",
    "### Hence, we will now consider an entire plane with coordinates $(\\operatorname{Tr}, \\operatorname{Det}) = (\\operatorname{tr}(\\bf{A}), \\det(\\bf{A}))$ that is, a plane with the trace on the horizontal axis and the determinant on the vertical axis. Whenever we pick a point on this plane, we will be considering the homogeneous $2 \\times 2$ first order constant coefficient systems $\\bf{\\dot{x}} = \\bf{A} \\bf{x}$ whose matrix  has trace $\\operatorname{Tr}$ and determinant $\\operatorname{Det}$.\n",
    "\n",
    "### Remark\n",
    "### For any given trace-determinant pair $(\\operatorname{Tr}, \\operatorname{Det})$ there are infinitely many matrices $\\bf{A}$ with $\\operatorname{ tr}(\\bf{A}) = \\operatorname{Tr}$ and $\\operatorname{ det}(\\bf{A}) = \\operatorname{Det}$. One example is the “companion matrix\":\n",
    "## $$ \\bf{A} = \\begin{pmatrix} 0 & 1 \\\\ -\\operatorname{Det} & \\operatorname{Tr} \\end{pmatrix} $$\n",
    "\n",
    "### This is a particularly important example, because it represents the system corresponding to the LTI equation \n",
    "## $$ \\ddot{x} - (\\operatorname{Tr})\\dot{x} + (\\operatorname{Det}) x = 0 $$\n",
    "### via $y = \\dot{x}$."
   ]
  },
  {
   "cell_type": "markdown",
   "id": "c5cb956b-d85c-4134-b8a3-11544ede7838",
   "metadata": {},
   "source": [
    "## Critical parabola\n",
    "\n",
    "### Let us re-express the classification of phase portraits of a $2\\times2$ system $\\bf{\\dot{x}} = \\bf{A} \\bf{x}$ in terms of $\\operatorname{tr}(\\bf{A})$ and $\\operatorname{det}(\\bf{A})$.\n",
    "### Recall that the types of phase portraits that we discussed in this unit are determined by the eigenvalues $\\lambda_1$, $\\lambda_2$ of $\\bf{A}$.\n",
    "### - ***Nodes***: if $\\lambda_1$, $\\lambda_2$ are real and distinct, and of the same sign.\n",
    "### - ***Saddles***: if $\\lambda_1$, $\\lambda_2$ are real and distinct, and of opposite sign.\n",
    "### - ***Centers***: if $\\lambda_1$, $\\lambda_2$ are purely imaginary $\\pm b i$ with $b \\neq 0$.\n",
    "### - ***Spirals***: if $\\lambda_1$, $\\lambda_2$ are complex with nonzero real and nonzero imaginary parts $a\\pm bi$ where $a\\neq 0$ and $b\\neq 0$.\n",
    "\n",
    "### The eigenvalues $\\lambda_1$, $\\lambda_2$ are the roots of the characteristic polynomial, which can be written in terms of the trace and determinant of $\\bf{A}$:\n",
    "## $$ \\det(\\bf{A} - \\lambda \\bf{I}) = (\\lambda - \\lambda_1) (\\lambda - \\lambda_2) = \\lambda^2 - (\\operatorname{tr}(\\bf{A}))\\lambda + (\\det(\\bf{A})) $$"
   ]
  },
  {
   "cell_type": "markdown",
   "id": "1eca6cc1-df47-4ca1-9882-afa74e53aac4",
   "metadata": {},
   "source": [
    "### Trace and determinant in terms of eigenvalues:\n",
    "## $$ \\operatorname{tr}(\\bf{A}) = \\lambda_1 + \\lambda_2 $$\n",
    "## $$ \\det(\\bf{A}) \\lambda_1 * \\lambda_2 $$"
   ]
  },
  {
   "cell_type": "markdown",
   "id": "1540a911-27ff-4e73-823f-d36e736717d2",
   "metadata": {},
   "source": [
    "### The quadratic formula gives\n",
    "## $$ \\lambda_{1,2}=\\frac{\\operatorname{tr}(\\bf{A})}{2} \\pm \\sqrt{\\frac{(\\operatorname{tr}(\\bf{A}))^2}{4} - \\det(\\bf{A})} $$\n",
    "### Therefore, the eigenvalues $\\lambda_1$, $\\lambda_2$ are\n",
    "## $$ \\begin{array} \\ \\text{real} & \\text{if} \\, \\det(\\bf{A}) \\leq \\frac{(\\operatorname{tr}(\\bf{A}))^2}{4} \\\\ \\text{non-real} & \\text{if} \\, \\det(\\bf{A}) > \\frac{(\\operatorname{tr}(\\bf{A}))^2}{4} \\end{array} $$"
   ]
  },
  {
   "cell_type": "markdown",
   "id": "6396a867-2fa7-47e9-9200-4a09d76de742",
   "metadata": {},
   "source": [
    "### ***Critical parabola***\n",
    "### The real roots are distinct when the strict inequality \n",
    "## $$\\det(\\bf{A}) < \\frac{(\\operatorname{tr}(\\bf{A}))^2}{4}$$ \n",
    "### holds, and repeated when\n",
    "## $$ \\det(\\bf{A}) = \\frac{(\\operatorname{tr}(\\bf{A}))^2}{4} $$\n",
    "\n",
    "### This defines the ***critical parabola***, which divides the $(\\operatorname{Tr}, \\operatorname{Det})$-plane into two regions representing systems with different types of behavior.\n",
    "![Critical Parabola](img/parabola-1.png)\n"
   ]
  },
  {
   "cell_type": "markdown",
   "id": "ffb9ebed-8f1b-49c2-9247-7c6dca974103",
   "metadata": {},
   "source": [
    "### Nodes and saddles\n",
    "### On the picture:\n",
    "![Nodes and saddles](img/nodes-saddles.png)\n",
    "### - D: nodal soure\n",
    "### - C: nodal sink\n",
    "### - E, F: nodal saddles\n",
    "### - A: spiral sink\n",
    "### - B: spiral source\n",
    "![Nodes and saddles](img/nodes-saddles-2.png)"
   ]
  },
  {
   "cell_type": "markdown",
   "id": "9164ac06-e05a-4e35-bb37-ce95c366dae4",
   "metadata": {},
   "source": [
    "### When the eigenvalues are real and distinct.\n",
    "### - If $\\det(\\bf{A}) < 0$, then the product $\\lambda_1 \\lambda_2 < 0$, so the eigenvalues have opposite sign: saddle.\n",
    "### - If $\\det(\\bf{A}) > 0$, then the eigenvalues have the same sign, and\n",
    "### $\\quad$ - if $\\operatorname{tr}(\\bf{A}) > 0$: nodal source,\n",
    "### $\\quad$ - if $\\operatorname{tr}(\\bf{A}) < 0$: nodal sink.\n",
    "\n",
    "### When the eigenvalues are complex ($\\lambda_{1,2}=a\\pm bi => \\operatorname{Tr}(\\bf{A}) = 2a$)\n",
    "### - If $\\operatorname{Tr}(\\bf{A}) > 0$: spiral source.\n",
    "### - If $\\operatorname{Tr}(\\bf{A}) < 0$: spiral sink.\n",
    "### - If $\\operatorname{Tr}(\\bf{A}) = 0$: center (consisting of ellipses)."
   ]
  },
  {
   "cell_type": "markdown",
   "id": "a6483250-74b5-458f-8db0-6e15c5d63e05",
   "metadata": {},
   "source": [
    "## Degenerate cases: cob\n",
    "### We have seen that the big regions on the trace-determinant plane correspond to nodes, saddles, and spirals. \n",
    "### What are the system behaviors on the boundaries of these regions? \n",
    "### These cases are called ***degenerate*** cases. \n",
    "### So far, we know that systems on the upper vertical axis are centers. But what happens on the horizontal $\\operatorname{Tr}$-axis, or on the critical parabola? Let us start with the horizontal axis.\n",
    "\n",
    "![Summary](img/summary.png)\n",
    "\n",
    "### On the horizontal $\\operatorname{Tr}$-axis, $\\det(\\bf{A}) = \\lambda_1 \\lambda_2 = 0$ so one of the eigenvalues is zero. The other eigenvalue is nonzero except at the origin, since $\\operatorname{Tr}(\\bf{A}) = \\lambda_1 + \\lambda_2$\n"
   ]
  },
  {
   "cell_type": "markdown",
   "id": "d386d20f-df27-46a3-ac45-b2f404b5f604",
   "metadata": {},
   "source": [
    "### Example\n",
    "### Recall the system describing two connected non-leaking fluid storage tanks:\n",
    "## $$ \\frac{d}{dt} \\begin{pmatrix} h_1 \\\\ h_2 \\end{pmatrix} = \\begin{pmatrix} -1 & 1 \\\\ 1 & -1 \\end{pmatrix} \\begin{pmatrix} h_1 \\\\ h_2 \\end{pmatrix} $$\n",
    "### where $h_1$, $h_2$ are the heights of fluid in the two tanks\n",
    "### We have previously found the eigenvalue-eigenvector pairs:\n",
    "## $$ \\lambda_1 = 0 \\qquad \\bf{v_1} = \\begin{pmatrix} 1 \\\\ 1 \\end{pmatrix} $$\n",
    "## $$ \\lambda_2 = -2 \\qquad \\bf{v_2} = \\begin{pmatrix} -1 \\\\ 1 \\end{pmatrix} $$\n",
    "### Note that one of the eigenvalues is $0$. This gives the general solution\n",
    "## $$ \\begin{pmatrix} h_1(t) \\\\ h_2(t) \\end{pmatrix} = c_1 \\begin{pmatrix} 1 \\\\ 1 \\end{pmatrix}  + c_2 \\begin{pmatrix} -1 \\\\ 1 \\end{pmatrix} e^{-2t} $$\n",
    "### Question\n",
    "### What are the phase plane trajectories of this system?\n",
    "\n",
    "### Solution:\n",
    "### - ***On the $0$-eigenline***:\n",
    "### The trajectory of the solution $c_1 \\begin{pmatrix} 1 \\\\ 1 \\end{pmatrix} $ is a ***stationary point*** on the $0$-eigenline.\n",
    "![Stationary Point](img/stationary.png)\n",
    "### The location of the point on the line depends on the value of $c_1$. \n",
    "### Since every point on the $0$-eigenline is a stationary point, such a point is also called a ***non-isolated critical point***.\n",
    "\n",
    "### - ***On the eigenline with negative eigenvalue***\n",
    "### The trajectory of the slution $c_2 \\begin{pmatrix} -1 \\\\ 1 \\end{pmatrix} e^{-2t}$ moves towards the origin on the $-2$ eigenline.\n",
    "![Negative Eigenvalue](img/negative-eig.png)\n",
    "\n",
    "### - ***Other trajectories***:\n",
    "### The trajectory of the solution $c_1 \\begin{pmatrix} 1 \\\\ 1 \\end{pmatrix}  + c_2 \\begin{pmatrix} -1 \\\\ 1 \\end{pmatrix} e^{-2t}$ with $c_1,c_2\\neq0$ will approach the point $c_1 \\begin{pmatrix} 1 \\\\ 1 \\end{pmatrix} $ as the term $c_2 \\begin{pmatrix} -1 \\\\ 1 \\end{pmatrix} e^{-2t}$ decays to $0$ as $t \\to \\infty$. \n",
    "### It moves along a line that is parallel to the $-2$-eigenline and approaches the $0$-eigenline at the point $c_1 \\begin{pmatrix} 1 \\\\ 1 \\end{pmatrix} $ Which side of the $0$-eigenline the trajectory is on depends on the sign of $c_2$.\n",
    "![General Solution](img/general-solution.png)\n",
    "\n",
    "### The phase portrait therefore looks like the following two-sided ***comb***:\n",
    "![Two-Sided Comb](img/two-sided-comb.png)\n",
    "\n",
    "### Remark\n",
    "### The stationary point solution on the $0$-eigenline corresponds to constant solutions in which the starting heights of the fluid are equal.\n",
    "![Fluid 1](img/fluid-1.png)\n",
    "### Other trajectories correspond to solutions that start with different heights but approach equal heights as time passes.\n",
    "![Fluid 1](img/fluid-2.png)"
   ]
  },
  {
   "cell_type": "markdown",
   "id": "d32ce241-095e-446b-85de-91874819ae9f",
   "metadata": {},
   "source": [
    "## Combs\n",
    "\n",
    "### Generalizing the preceding example, suppose a system has one zero and one nonzero eigenvalue, then its phase portrait is a ***comb***.\n",
    "### Comb: Eigenvalues are ***real and distinct***, with exactly one being zero.\n",
    "### Let $\\lambda_1 = 0, \\lambda_2 \\neq2$\n",
    "### Every point on the $0$-eigenline is ***stationary***.\n",
    "### Other trajectories are along lines ***parallel to the eigenline corresponding to $\\lambda_2 \\neq 0$***, and\n",
    "### - tending to infinity if $\\lambda_2 > 0$\n",
    "### - approaching the $0$-eigenline if $\\lambda_2 < 0$\n",
    "\n",
    "### ***General solution***: \n",
    "## $$ c_1 \\bf{v_1} + c_2 \\bf{v_2} e^{\\lambda2 t} $$\n",
    "![Phase Portrait](img/phasep-1.png)\n",
    "\n",
    "### On the trace-determinant plane:\n",
    "### Combs are on the horizontal $\\operatorname{Tr}$-axis except the origin on the $(\\operatorname{Tr}, \\operatorname{Det})$-plane, since $\\lambda_1 = 0$ and $\\lambda_2 \\neq 0$ imply ***$\\det(\\bf{A}) = 0$*** and . On the left half $\\operatorname{Tr}$-axis are attracting combs; the right are repelling combs.\n",
    "![Phase Portrait](img/phasep-2.png)\n",
    "\n"
   ]
  },
  {
   "cell_type": "markdown",
   "id": "b347a2cf-24b0-4e02-979f-8b95922792cf",
   "metadata": {},
   "source": [
    "## On the critical parabola\n",
    "\n",
    "### On the critical parabola, \n",
    "## $$\\det(\\bf{A}) = \\frac{(\\operatorname{tr}(\\bf{A}))^2}{4}$$\n",
    "### , the systems have a repeated real eigenvalue. \n",
    "### When the eigenvalue is repeated, there are two possibilities for the space of eigenvectors. \n",
    "### The space of all eigenvectors for this only eigenvalue may be $1$- or $2$-dimensional. Depending on whether the repeated eigenvalue is nonzero or zero, and whether the space of eigenvectors is $1$- or $2$- dimensional, the phase portraits are different, as follows.\n",
    "### Suppose that there is a ***repeated real eigenvalue***, $\\lambda_1 = \\lambda, \\lambda_2 = \\lambda$. The space of eigenvectors of $\\lambda$ could be either $1$-dimensional or $2$-dimensional.\n",
    "\n",
    "### ***1.*** ***Degenerate node*** (or ***improper node*** or ***defective node***):\n",
    "### ***Repeated nonzero eigenvalue*** with ***$1$-dimensional*** space of eigenvectors, $\\lambda \\neq 0$ and $\\bf{A} \\neq \\lambda \\bf{I}$\n",
    "### There is just one eigenline.\n",
    "### Every trajectory not contained in the eigenline becomes tangent to it at $(0, 0)$, and becomes parallel to it when far away from $(0, 0)$. \n",
    "### The trajectories are\n",
    "### - repelled from $(0,0)$ if $\\lambda>0$\n",
    "### - attracted to $(0,0)$ if $\\lambda<0$\n",
    "### This is borderline case between a node and a spiral.\n",
    "### Example of solution:\n",
    "## $$ \\bf{x} = c_1 \\begin{pmatrix} 1 \\\\ 0 \\end{pmatrix} e^t + c_2 \\left( \\begin{pmatrix} 0 \\\\ 1 \\end{pmatrix} + \\begin{pmatrix} 1 \\\\ 0 \\end{pmatrix} t \\right) e^t  $$\n",
    "\n",
    "![Phase Portrait](img/solution.jpg)\n",
    "\n",
    "![Phase Portrait](img/phasep-3.png)"
   ]
  },
  {
   "cell_type": "markdown",
   "id": "332eb603-eee2-4a2d-b309-0552493374fe",
   "metadata": {},
   "source": [
    "### ***2.*** ***Star Node***:\n",
    "### Repeated nonzero eigenvalue, $2$-dimensional space of eigenvectors, $\\lambda \\neq 0$ and $\\bf{A} = \\lambda \\bf{I}$\n",
    "### Every nonzero vector is an eigenvector.\n",
    "### Nonzero trajectories are along rays, and are\n",
    "### - repelled from $(0, 0)$ if $\\lambda > 0$\n",
    "### - attracted to $(0, 0)$ if $\\lambda < 0$\n",
    "### ***General solution***:\n",
    "## $$ \\bf{x} = e^{\\lambda t} \\left[ c_1 \\begin{pmatrix}  1 \\\\ 0 \\end{pmatrix} + c_2 \\begin{pmatrix} 0 \\\\ 1 \\end{pmatrix}  \\right] $$\n",
    "![Phase Portrait](img/phasep-4.png)\n",
    "\n",
    "### Remark: If $\\bf{A}$ is not a diagonal matrix then the node is a degenerate node.\n",
    "### Remark 2: \n",
    "### In star nodes, every vector is an eigenvector. For example $A = \\begin{pmatrix} 1 & 0 \\\\ 0 & 1 \\end{pmatrix}$ gives rise to a star node.\n",
    "\n",
    "### On the other hand, if the matrix only has one eigenvalue and one eigenvector, it is a degenerate case. For example: $A = \\begin{pmatrix} 1 & 1 \\\\ 0 & 1 \\end{pmatrix}$\n",
    "\n",
    "### Note that these matrices both have the same eigenvalues, but different eigenvectors, and different system behavior.\n",
    "---"
   ]
  },
  {
   "cell_type": "markdown",
   "id": "782f3ae9-154e-46ed-9c36-343d759e8af5",
   "metadata": {},
   "source": [
    "### At the origin of the trace-determinant plane, both eigenvalues are zero. \n",
    "### There are two kinds of phase portraits, depending on the dimension of the space of eigenvectors.\n",
    "\n",
    "### ***1.*** ***Repeated zero eigenvalue*** with ***1-dimensional*** space of eigenvectors, $\\lambda = 0$ and $\\bf{A} \\neq 0$ There is only one eigenline. Points on the eigenline are stationary. All other trajectories are lines parallel to the eigenline.\n",
    "### ***General solution***: \n",
    "## $$ \\bf{x} = c_1 \\bf{v} + c_2 (t \\bf{v} + \\bf{w}) $$\n",
    "### where $\\bf{v}$ is an eigenvector of $0$ and the constant vector $\\bf{w}$ satisfies $\\bf{v} = (\\bf{A} - \\lambda \\bf{I}) \\bf{w}$.\n",
    "\n",
    "### ***2.*** ***Repeated zero eigenvalue*** with ***$2$-dimensional*** space of eigenvectors, $\\lambda = 0$ and $\\bf{A} = 0$.\n",
    "### Every solution is a ***stationary point***\n",
    "### ***General solution***:\n",
    "## $$ \\bf{x} = \\begin{pmatrix} c_1 \\\\ c_2 \\end{pmatrix} $$"
   ]
  },
  {
   "cell_type": "markdown",
   "id": "10129938-c717-4f19-91ce-81c56fff3b57",
   "metadata": {},
   "source": [
    "### ***On the trace-determinant plane***:\n",
    "### Suppose that $\\det(\\bf{A}) = \\frac{(\\operatorname{tr}(\\bf{A}))^2}{4}$.\n",
    "### Then we get a repeated real eigenvalue $\\lambda_1 = \\lambda$, $\\lambda_2 = \\lambda$, so that $\\operatorname{tr}(\\bf{A}) = 2 \\lambda$.\n",
    "### - If $\\operatorname{tr}(\\bf{A}) \\neq 0$, degenerate node or star node.\n",
    "### - If $\\operatorname{tr}(\\bf{A}) = 0$, stationary solutions or solution along lines parallel to eigenline.\n",
    "![Phase Portrait](img/phasep-5.png)"
   ]
  },
  {
   "cell_type": "markdown",
   "id": "97d2d6db-f837-4801-9f7e-363617a87ebe",
   "metadata": {},
   "source": [
    "## Full picture of trace determinant plane\n",
    "\n",
    "![TrDet](img/phasep-6.png)\n",
    "\n",
    "### The ***trace-determinant plane*** is the plane with axes $\\operatorname{Tr}$ and $\\operatorname{Det}$. \n",
    "### This is completely different from the phase plane (the axes are different).\n",
    "### Whereas the phase portrait shows all possible trajectories for a system \n",
    "## $$ \\bf{\\dot{x}} = \\bf{A} \\bf{x} $$ \n",
    "### for a specific $\\bf{A}$, the trace-determinant plane has just one point for that system. \n",
    "### The position of that point contains information about the kind of phase portrait describing the system.\n",
    "\n",
    "### Above the critical parabola $\\operatorname{Det} = \\frac{\\operatorname{Tr}^2}{4}$, the eigenvalues are complex. \n",
    "### Below the parabola, the eigenvalues are real and distinct."
   ]
  },
  {
   "cell_type": "markdown",
   "id": "a10fc158-6051-47c2-b6a6-d39c74aeef81",
   "metadata": {},
   "source": [
    "## Stability\n",
    "\n",
    "### An important question for a given system $\\bf{\\dot{x}} = \\bf{A} \\bf{x}$ is whether it is stable or not. For example, the damped oscillators (with nonzero damping) are always stable.\n",
    "\n",
    "### Generally,\n",
    "### - If all trajectories tend to $0$ as $t \\to \\infty$, the system is called ***stable***.\n",
    "### - If some trajectories are unbounded as $t \\to \\infty$, then the system is called ***unstable***.\n",
    "### - In the borderline case in which all solutions are bounded, but do not all tend to $0$ the system is called ***semistable*** (or ***neutrally stable***). Example: a center, which corresponds to an undamped oscillator."
   ]
  },
  {
   "cell_type": "markdown",
   "id": "258eb3dc-45ac-4689-a5bd-1339b1658679",
   "metadata": {},
   "source": [
    "### Recall that stability is determined by the eigenvalues; hence for $2 \\times 2$ systems, it is determined by the trace and determinant.\n",
    "\n",
    "## Tests for stability\n",
    "\n",
    "### The tests for stability are the same as for a single higher-order ODE, in terms of the roots or coefficients of the characteristic polynomial. Let $\\lambda_1$, $\\lambda_2$ be the eigenvalues of $\\bf{A}$\n",
    "## $$ \\begin{array} \\ \\text{System}\\,\\bf{\\dot{x}} = \\bf{A} \\bf{x}\\,\\, \\text{is stable} & \\iff & \\operatorname{Re}(\\lambda_1), \\operatorname{Re}(\\lambda_2) < 0 \\, (\\text{so}\\, e^{\\lambda_1 t}, e^{\\lambda_2 t} \\underset {t\\to \\infty }{\\longrightarrow } 0) \\\\ \\, & \\iff & \\text{the characteristic polynomial} \\,\\, \\det(\\bf{A} - \\lambda \\bf{I})\\,\\, \\text{has positive coefficients} \\\\ \\, & \\iff & \\operatorname{tr}(\\bf{A}) < 0\\,\\,\\text{and}\\,\\,\\det(\\bf{A})>0 \\end{array} $$\n",
    "\n",
    "![Stability](img/stability.png)\n",
    "\n"
   ]
  },
  {
   "cell_type": "markdown",
   "id": "2fb1fcfa-a3c5-4894-b6bc-e5440b698a70",
   "metadata": {},
   "source": [
    "## Structural stability\n",
    "\n",
    "### Stability is a question of what happens to the solutions of a fixed system of ODEs. There is a different, equally important question of what happens if the system of ODEs itself is changed slightly, by perturbing the matrix $\\bf{A}$. This is addressed by the structural stability of the system.\n",
    "\n",
    "### Definition\n",
    "### If the phase portrait type is robust in the sense that small perturbations in the entries of $\\bf{A}$ do not change the type of the phase portrait, then the system is called ***structurally stable***.\n",
    "\n",
    "### Structurally stable systems are those corresponding to the large regions in the trace-determinant plane, not the borderline cases. Hence, for a $2 \\times 2$ matrix $\\bf{A}$, the system $\\bf{\\dot{x}} = \\bf{A} \\bf{x}$ is structurally stable if and only if the eigenvalues of $\\bf{A}$ are\n",
    "### - real, distinct and nonzero, corresponding to saddles, node sources or node sinks;\n",
    "### - complex with nonzero real part, corresponding to spirals.\n",
    "![Structural Stability](img/stability-2.png)\n"
   ]
  },
  {
   "cell_type": "markdown",
   "id": "0ec2b85f-4293-4f5a-a282-23c64e404d1a",
   "metadata": {},
   "source": [
    "## Two connected fluid tanks:\n",
    "### Recall the system describing two connected nonleaking fluid storage tanks:\n",
    "## $$ \\bf{\\dot{x}} = \\bf{A} \\bf{x} $$\n",
    "### where\n",
    "## $$ \\bf{A} = \\begin{pmatrix} -1 & 1 \\\\ 1 & -1 \\end{pmatrix}, \\quad \\bf{x} = \\begin{pmatrix} h_1 \\\\ h_2 \\end{pmatrix} $$\n",
    "### where $h_1$, $h_2$ are the heights of fluid in the two tanks.\n",
    "### We have previously found that this system has eigenvalues $0$ and $-2$. Therefore, it is situated on the negative $\\operatorname{Tr}$-axis on the trace-determinant plane. Its phase portrait is a comb. This is a ***semistable*** system since every trajectory on the phase plane approaches a point on the $0$-eigenline.\n",
    "### However, this is a ***structurally unstable*** system. To see this, let us perturb the lower right entry of the matrix $\\bf{A}$.\n",
    "### System with one leaky tank:\n",
    "![Tanks](img/tanks.png)"
   ]
  },
  {
   "cell_type": "markdown",
   "id": "50b10b0a-1e7a-436d-bc37-9d9cbde04c89",
   "metadata": {},
   "source": [
    "### Recall that the system describing the heights of fluid in two connected tanks with tank 2 leaking at a rate $bh_2$ is\n",
    "## $$ \\bf{\\dot{x}} = \\bf{\\tilde{A}} = \\begin{pmatrix} -1 & 1 \\\\ 1 & -1-b \\end{pmatrix}, \\quad \\bf{x} = \\begin{pmatrix} h_1 \\\\ h_2 \\end{pmatrix} \\,\\, \\text{and}\\,\\,b>0 $$"
   ]
  },
  {
   "cell_type": "markdown",
   "id": "d3636f00-1e67-4b1a-b02a-6a6513e99074",
   "metadata": {},
   "source": [
    "### Note that the matrix $\\bf{\\tilde{A}}$ is a perturbation of the matrix $\\bf{A}=\\begin{pmatrix} -1 & 1 \\\\ 1 & -1 \\end{pmatrix}$. The eigenvalues of $\\bf{\\tilde{A}}$ are the roots of the characteristic polynomial:\n",
    "## $$ \\lambda^2-\\operatorname{tr}(\\bf{\\tilde{A}}) \\lambda + \\det(\\bf{\\tilde{A}}) = \\lambda^2 - (-2-b)\\lambda + b $$\n",
    "## $$ \\implies \\lambda = \\frac{-(2+b)\\pm\\sqrt{(2+b^2 - 4b)}}{2} \\quad (\\text{where}\\,\\,b>0) $$"
   ]
  },
  {
   "cell_type": "markdown",
   "id": "acc8aa80-bf25-4278-b831-9fa2c04d8627",
   "metadata": {},
   "source": [
    "### The eigenvalues of $\\bf{\\tilde{A}}$ are real, distinct and ***both negative***, as long as $b>0$, giving a node sink as the phase portrait. The perturbed system is ***stable***, since all phase plane trajectories tend to the origin. Physically, this means both tanks eventually empty out as long as there is a leak.\n",
    "\n",
    "### (If $b<0$ instead, which corresponds to fluid continuously flowing into tank 2, then the perturbed system is unstable. The amount of fluid in the two tanks will become infinite; or more realistically, both tanks will eventually overflow!)\n",
    "\n",
    "### Conclusion:\n",
    "### We see that the phase portrait of the system with $b=0$, a comb, is of a different type than the phase portrait of a system with any value of $b$ where $b>0$, a nodal sink. The qualitative behavior of the system with $b=0$ is changed drastically by the slightest change in $b$. Therefore, the system with $b=0$ is structurally unstable."
   ]
  },
  {
   "cell_type": "code",
   "execution_count": null,
   "id": "8148e842",
   "metadata": {},
   "outputs": [],
   "source": []
  }
 ],
 "metadata": {
  "kernelspec": {
   "display_name": "Python 3",
   "language": "python",
   "name": "python3"
  },
  "language_info": {
   "codemirror_mode": {
    "name": "ipython",
    "version": 3
   },
   "file_extension": ".py",
   "mimetype": "text/x-python",
   "name": "python",
   "nbconvert_exporter": "python",
   "pygments_lexer": "ipython3",
   "version": "3.8.8"
  }
 },
 "nbformat": 4,
 "nbformat_minor": 5
}
